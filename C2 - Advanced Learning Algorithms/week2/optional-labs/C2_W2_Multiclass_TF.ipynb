{
 "cells": [
  {
   "cell_type": "markdown",
   "metadata": {},
   "source": [
    "# Optional Lab - Multi-class Classification\n"
   ]
  },
  {
   "cell_type": "markdown",
   "metadata": {},
   "source": [
    "## 1.1 Goals\n",
    "In this lab, you will explore an example of multi-class classification using neural networks.\n",
    "<figure>\n",
    " <img src=\"./images/C2_W2_mclass_header.png\"   style=\"width500px;height:200px;\">\n",
    "</figure>\n"
   ]
  },
  {
   "cell_type": "markdown",
   "metadata": {},
   "source": [
    "## 1.2 Tools\n",
    "You will use some plotting routines. These are stored in `lab_utils_multiclass_TF.py` in this directory."
   ]
  },
  {
   "cell_type": "code",
   "execution_count": 1,
   "metadata": {},
   "outputs": [],
   "source": [
    "import numpy as np\n",
    "import matplotlib.pyplot as plt\n",
    "%matplotlib widget\n",
    "from sklearn.datasets import make_blobs\n",
    "import tensorflow as tf\n",
    "from tensorflow.keras.models import Sequential\n",
    "from tensorflow.keras.layers import Dense\n",
    "np.set_printoptions(precision=2)\n",
    "from lab_utils_multiclass_TF import *\n",
    "import logging\n",
    "logging.getLogger(\"tensorflow\").setLevel(logging.ERROR)\n",
    "tf.autograph.set_verbosity(0)"
   ]
  },
  {
   "cell_type": "markdown",
   "metadata": {
    "tags": []
   },
   "source": [
    "# 2.0 Multi-class Classification\n",
    "Neural Networks are often used to classify data. Examples are neural networks:\n",
    "- take in photos and classify subjects in the photos as {dog,cat,horse,other}\n",
    "- take in a sentence and classify the 'parts of speech' of its elements: {noun, verb, adjective etc..}  \n",
    "\n",
    "A network of this type will have multiple units in its final layer. Each output is associated with a category. When an input example is applied to the network, the output with the highest value is the category predicted. If the output is applied to a softmax function, the output of the softmax will provide probabilities of the input being in each category. \n",
    "\n",
    "In this lab you will see an example of building a multiclass network in Tensorflow. We will then take a look at how the neural network makes its predictions.\n",
    "\n",
    "Let's start by creating a four-class data set."
   ]
  },
  {
   "cell_type": "markdown",
   "metadata": {},
   "source": [
    "## 2.1 Prepare and visualize our data\n",
    "We will use Scikit-Learn `make_blobs` function to make a training data set with 4 categories as shown in the plot below."
   ]
  },
  {
   "cell_type": "code",
   "execution_count": 2,
   "metadata": {},
   "outputs": [],
   "source": [
    "# make 4-class dataset for classification\n",
    "classes = 4\n",
    "m = 100\n",
    "centers = [[-5, 2], [-2, -2], [1, 2], [5, -2]]\n",
    "std = 1.0\n",
    "X_train, y_train = make_blobs(n_samples=m, centers=centers, cluster_std=std,random_state=30)"
   ]
  },
  {
   "cell_type": "code",
   "execution_count": 3,
   "metadata": {},
   "outputs": [
    {
     "data": {
      "application/vnd.jupyter.widget-view+json": {
       "model_id": "34f93a6f466b406dbe98c0f39f187b95",
       "version_major": 2,
       "version_minor": 0
      },
      "text/plain": [
       "Canvas(toolbar=Toolbar(toolitems=[('Home', 'Reset original view', 'home', 'home'), ('Back', 'Back to previous …"
      ]
     },
     "metadata": {},
     "output_type": "display_data"
    },
    {
     "ename": "IndexError",
     "evalue": "list index out of range",
     "output_type": "error",
     "traceback": [
      "\u001b[1;31m---------------------------------------------------------------------------\u001b[0m",
      "\u001b[1;31mIndexError\u001b[0m                                Traceback (most recent call last)",
      "File \u001b[1;32mc:\\Python\\Winpython64-3.8.2.0cod\\python-3.8.2.amd64\\lib\\site-packages\\ipympl\\backend_nbagg.py:203\u001b[0m, in \u001b[0;36mCanvas._handle_message\u001b[1;34m(self, object, content, buffers)\u001b[0m\n\u001b[0;32m    201\u001b[0m     \u001b[39mself\u001b[39m\u001b[39m.\u001b[39mmanager\u001b[39m.\u001b[39mresize(w, h)\n\u001b[0;32m    202\u001b[0m \u001b[39melse\u001b[39;00m:\n\u001b[1;32m--> 203\u001b[0m     \u001b[39mself\u001b[39;49m\u001b[39m.\u001b[39;49mmanager\u001b[39m.\u001b[39;49mhandle_json(content)\n",
      "File \u001b[1;32mc:\\Python\\Winpython64-3.8.2.0cod\\python-3.8.2.amd64\\lib\\site-packages\\matplotlib\\backends\\backend_webagg_core.py:440\u001b[0m, in \u001b[0;36mFigureManagerWebAgg.handle_json\u001b[1;34m(self, content)\u001b[0m\n\u001b[0;32m    439\u001b[0m \u001b[39mdef\u001b[39;00m \u001b[39mhandle_json\u001b[39m(\u001b[39mself\u001b[39m, content):\n\u001b[1;32m--> 440\u001b[0m     \u001b[39mself\u001b[39;49m\u001b[39m.\u001b[39;49mcanvas\u001b[39m.\u001b[39;49mhandle_event(content)\n",
      "File \u001b[1;32mc:\\Python\\Winpython64-3.8.2.0cod\\python-3.8.2.amd64\\lib\\site-packages\\matplotlib\\backends\\backend_webagg_core.py:240\u001b[0m, in \u001b[0;36mFigureCanvasWebAggCore.handle_event\u001b[1;34m(self, event)\u001b[0m\n\u001b[0;32m    237\u001b[0m e_type \u001b[39m=\u001b[39m event[\u001b[39m'\u001b[39m\u001b[39mtype\u001b[39m\u001b[39m'\u001b[39m]\n\u001b[0;32m    238\u001b[0m handler \u001b[39m=\u001b[39m \u001b[39mgetattr\u001b[39m(\u001b[39mself\u001b[39m, \u001b[39m'\u001b[39m\u001b[39mhandle_\u001b[39m\u001b[39m{0}\u001b[39;00m\u001b[39m'\u001b[39m\u001b[39m.\u001b[39mformat(e_type),\n\u001b[0;32m    239\u001b[0m                   \u001b[39mself\u001b[39m\u001b[39m.\u001b[39mhandle_unknown_event)\n\u001b[1;32m--> 240\u001b[0m \u001b[39mreturn\u001b[39;00m handler(event)\n",
      "File \u001b[1;32mc:\\Python\\Winpython64-3.8.2.0cod\\python-3.8.2.amd64\\lib\\site-packages\\matplotlib\\backends\\backend_webagg_core.py:256\u001b[0m, in \u001b[0;36mFigureCanvasWebAggCore.handle_draw\u001b[1;34m(self, event)\u001b[0m\n\u001b[0;32m    255\u001b[0m \u001b[39mdef\u001b[39;00m \u001b[39mhandle_draw\u001b[39m(\u001b[39mself\u001b[39m, event):\n\u001b[1;32m--> 256\u001b[0m     \u001b[39mself\u001b[39;49m\u001b[39m.\u001b[39;49mdraw()\n",
      "File \u001b[1;32mc:\\Python\\Winpython64-3.8.2.0cod\\python-3.8.2.amd64\\lib\\site-packages\\matplotlib\\backends\\backend_webagg_core.py:151\u001b[0m, in \u001b[0;36mFigureCanvasWebAggCore.draw\u001b[1;34m(self)\u001b[0m\n\u001b[0;32m    149\u001b[0m \u001b[39mself\u001b[39m\u001b[39m.\u001b[39m_png_is_old \u001b[39m=\u001b[39m \u001b[39mTrue\u001b[39;00m\n\u001b[0;32m    150\u001b[0m \u001b[39mtry\u001b[39;00m:\n\u001b[1;32m--> 151\u001b[0m     \u001b[39msuper\u001b[39;49m()\u001b[39m.\u001b[39;49mdraw()\n\u001b[0;32m    152\u001b[0m \u001b[39mfinally\u001b[39;00m:\n\u001b[0;32m    153\u001b[0m     \u001b[39mself\u001b[39m\u001b[39m.\u001b[39mmanager\u001b[39m.\u001b[39mrefresh_all()\n",
      "File \u001b[1;32mc:\\Python\\Winpython64-3.8.2.0cod\\python-3.8.2.amd64\\lib\\site-packages\\matplotlib\\backends\\backend_agg.py:390\u001b[0m, in \u001b[0;36mFigureCanvasAgg.draw\u001b[1;34m(self)\u001b[0m\n\u001b[0;32m    388\u001b[0m \u001b[39mself\u001b[39m\u001b[39m.\u001b[39mrenderer \u001b[39m=\u001b[39m \u001b[39mself\u001b[39m\u001b[39m.\u001b[39mget_renderer(cleared\u001b[39m=\u001b[39m\u001b[39mTrue\u001b[39;00m)\n\u001b[0;32m    389\u001b[0m \u001b[39m# Acquire a lock on the shared font cache.\u001b[39;00m\n\u001b[1;32m--> 390\u001b[0m \u001b[39mwith\u001b[39;00m RendererAgg\u001b[39m.\u001b[39mlock, \\\n\u001b[0;32m    391\u001b[0m      (\u001b[39mself\u001b[39m\u001b[39m.\u001b[39mtoolbar\u001b[39m.\u001b[39m_wait_cursor_for_draw_cm() \u001b[39mif\u001b[39;00m \u001b[39mself\u001b[39m\u001b[39m.\u001b[39mtoolbar\n\u001b[0;32m    392\u001b[0m       \u001b[39melse\u001b[39;00m nullcontext()):\n\u001b[0;32m    393\u001b[0m     \u001b[39mself\u001b[39m\u001b[39m.\u001b[39mfigure\u001b[39m.\u001b[39mdraw(\u001b[39mself\u001b[39m\u001b[39m.\u001b[39mrenderer)\n\u001b[0;32m    394\u001b[0m     \u001b[39m# A GUI class may be need to update a window using this draw, so\u001b[39;00m\n\u001b[0;32m    395\u001b[0m     \u001b[39m# don't forget to call the superclass.\u001b[39;00m\n",
      "File \u001b[1;32mc:\\Python\\Winpython64-3.8.2.0cod\\python-3.8.2.amd64\\lib\\contextlib.py:113\u001b[0m, in \u001b[0;36m_GeneratorContextManager.__enter__\u001b[1;34m(self)\u001b[0m\n\u001b[0;32m    111\u001b[0m \u001b[39mdel\u001b[39;00m \u001b[39mself\u001b[39m\u001b[39m.\u001b[39margs, \u001b[39mself\u001b[39m\u001b[39m.\u001b[39mkwds, \u001b[39mself\u001b[39m\u001b[39m.\u001b[39mfunc\n\u001b[0;32m    112\u001b[0m \u001b[39mtry\u001b[39;00m:\n\u001b[1;32m--> 113\u001b[0m     \u001b[39mreturn\u001b[39;00m \u001b[39mnext\u001b[39;49m(\u001b[39mself\u001b[39;49m\u001b[39m.\u001b[39;49mgen)\n\u001b[0;32m    114\u001b[0m \u001b[39mexcept\u001b[39;00m \u001b[39mStopIteration\u001b[39;00m:\n\u001b[0;32m    115\u001b[0m     \u001b[39mraise\u001b[39;00m \u001b[39mRuntimeError\u001b[39;00m(\u001b[39m\"\u001b[39m\u001b[39mgenerator didn\u001b[39m\u001b[39m'\u001b[39m\u001b[39mt yield\u001b[39m\u001b[39m\"\u001b[39m) \u001b[39mfrom\u001b[39;00m \u001b[39mNone\u001b[39m\n",
      "File \u001b[1;32mc:\\Python\\Winpython64-3.8.2.0cod\\python-3.8.2.amd64\\lib\\site-packages\\matplotlib\\backend_bases.py:2785\u001b[0m, in \u001b[0;36mNavigationToolbar2._wait_cursor_for_draw_cm\u001b[1;34m(self)\u001b[0m\n\u001b[0;32m   2783\u001b[0m \u001b[39mif\u001b[39;00m \u001b[39mself\u001b[39m\u001b[39m.\u001b[39m_draw_time \u001b[39m-\u001b[39m last_draw_time \u001b[39m>\u001b[39m \u001b[39m1\u001b[39m:\n\u001b[0;32m   2784\u001b[0m     \u001b[39mtry\u001b[39;00m:\n\u001b[1;32m-> 2785\u001b[0m         \u001b[39mself\u001b[39;49m\u001b[39m.\u001b[39;49mset_cursor(cursors\u001b[39m.\u001b[39;49mWAIT)\n\u001b[0;32m   2786\u001b[0m         \u001b[39myield\u001b[39;00m\n\u001b[0;32m   2787\u001b[0m     \u001b[39mfinally\u001b[39;00m:\n",
      "File \u001b[1;32mc:\\Python\\Winpython64-3.8.2.0cod\\python-3.8.2.amd64\\lib\\site-packages\\matplotlib\\backends\\backend_webagg_core.py:382\u001b[0m, in \u001b[0;36mNavigationToolbar2WebAgg.set_cursor\u001b[1;34m(self, cursor)\u001b[0m\n\u001b[0;32m    380\u001b[0m \u001b[39mdef\u001b[39;00m \u001b[39mset_cursor\u001b[39m(\u001b[39mself\u001b[39m, cursor):\n\u001b[0;32m    381\u001b[0m     \u001b[39mif\u001b[39;00m cursor \u001b[39m!=\u001b[39m \u001b[39mself\u001b[39m\u001b[39m.\u001b[39mcursor:\n\u001b[1;32m--> 382\u001b[0m         \u001b[39mself\u001b[39;49m\u001b[39m.\u001b[39;49mcanvas\u001b[39m.\u001b[39;49msend_event(\u001b[39m\"\u001b[39;49m\u001b[39mcursor\u001b[39;49m\u001b[39m\"\u001b[39;49m, cursor\u001b[39m=\u001b[39;49mcursor)\n\u001b[0;32m    383\u001b[0m     \u001b[39mself\u001b[39m\u001b[39m.\u001b[39mcursor \u001b[39m=\u001b[39m cursor\n",
      "File \u001b[1;32mc:\\Python\\Winpython64-3.8.2.0cod\\python-3.8.2.amd64\\lib\\site-packages\\matplotlib\\backends\\backend_webagg_core.py:347\u001b[0m, in \u001b[0;36mFigureCanvasWebAggCore.send_event\u001b[1;34m(self, event_type, **kwargs)\u001b[0m\n\u001b[0;32m    345\u001b[0m \u001b[39mdef\u001b[39;00m \u001b[39msend_event\u001b[39m(\u001b[39mself\u001b[39m, event_type, \u001b[39m*\u001b[39m\u001b[39m*\u001b[39mkwargs):\n\u001b[0;32m    346\u001b[0m     \u001b[39mif\u001b[39;00m \u001b[39mself\u001b[39m\u001b[39m.\u001b[39mmanager:\n\u001b[1;32m--> 347\u001b[0m         \u001b[39mself\u001b[39;49m\u001b[39m.\u001b[39;49mmanager\u001b[39m.\u001b[39;49m_send_event(event_type, \u001b[39m*\u001b[39;49m\u001b[39m*\u001b[39;49mkwargs)\n",
      "File \u001b[1;32mc:\\Python\\Winpython64-3.8.2.0cod\\python-3.8.2.amd64\\lib\\site-packages\\matplotlib\\backends\\backend_webagg_core.py:490\u001b[0m, in \u001b[0;36mFigureManagerWebAgg._send_event\u001b[1;34m(self, event_type, **kwargs)\u001b[0m\n\u001b[0;32m    488\u001b[0m payload \u001b[39m=\u001b[39m {\u001b[39m'\u001b[39m\u001b[39mtype\u001b[39m\u001b[39m'\u001b[39m: event_type, \u001b[39m*\u001b[39m\u001b[39m*\u001b[39mkwargs}\n\u001b[0;32m    489\u001b[0m \u001b[39mfor\u001b[39;00m s \u001b[39min\u001b[39;00m \u001b[39mself\u001b[39m\u001b[39m.\u001b[39mweb_sockets:\n\u001b[1;32m--> 490\u001b[0m     s\u001b[39m.\u001b[39;49msend_json(payload)\n",
      "File \u001b[1;32mc:\\Python\\Winpython64-3.8.2.0cod\\python-3.8.2.amd64\\lib\\site-packages\\ipympl\\backend_nbagg.py:209\u001b[0m, in \u001b[0;36mCanvas.send_json\u001b[1;34m(self, content)\u001b[0m\n\u001b[0;32m    207\u001b[0m \u001b[39mif\u001b[39;00m content[\u001b[39m'\u001b[39m\u001b[39mtype\u001b[39m\u001b[39m'\u001b[39m] \u001b[39m==\u001b[39m \u001b[39m'\u001b[39m\u001b[39mcursor\u001b[39m\u001b[39m'\u001b[39m:\n\u001b[0;32m    208\u001b[0m     cursors \u001b[39m=\u001b[39m [\u001b[39m'\u001b[39m\u001b[39mpointer\u001b[39m\u001b[39m'\u001b[39m, \u001b[39m'\u001b[39m\u001b[39mdefault\u001b[39m\u001b[39m'\u001b[39m, \u001b[39m'\u001b[39m\u001b[39mcrosshair\u001b[39m\u001b[39m'\u001b[39m, \u001b[39m'\u001b[39m\u001b[39mmove\u001b[39m\u001b[39m'\u001b[39m]\n\u001b[1;32m--> 209\u001b[0m     \u001b[39mself\u001b[39m\u001b[39m.\u001b[39m_cursor \u001b[39m=\u001b[39m cursors[content[\u001b[39m'\u001b[39;49m\u001b[39mcursor\u001b[39;49m\u001b[39m'\u001b[39;49m]]\n\u001b[0;32m    211\u001b[0m \u001b[39melif\u001b[39;00m content[\u001b[39m'\u001b[39m\u001b[39mtype\u001b[39m\u001b[39m'\u001b[39m] \u001b[39m==\u001b[39m \u001b[39m'\u001b[39m\u001b[39mmessage\u001b[39m\u001b[39m'\u001b[39m:\n\u001b[0;32m    212\u001b[0m     \u001b[39mself\u001b[39m\u001b[39m.\u001b[39m_message \u001b[39m=\u001b[39m content[\u001b[39m'\u001b[39m\u001b[39mmessage\u001b[39m\u001b[39m'\u001b[39m]\n",
      "\u001b[1;31mIndexError\u001b[0m: list index out of range"
     ]
    },
    {
     "ename": "IndexError",
     "evalue": "list index out of range",
     "output_type": "error",
     "traceback": [
      "\u001b[1;31m---------------------------------------------------------------------------\u001b[0m",
      "\u001b[1;31mIndexError\u001b[0m                                Traceback (most recent call last)",
      "File \u001b[1;32mc:\\Python\\Winpython64-3.8.2.0cod\\python-3.8.2.amd64\\lib\\site-packages\\ipympl\\backend_nbagg.py:203\u001b[0m, in \u001b[0;36mCanvas._handle_message\u001b[1;34m(self, object, content, buffers)\u001b[0m\n\u001b[0;32m    201\u001b[0m     \u001b[39mself\u001b[39m\u001b[39m.\u001b[39mmanager\u001b[39m.\u001b[39mresize(w, h)\n\u001b[0;32m    202\u001b[0m \u001b[39melse\u001b[39;00m:\n\u001b[1;32m--> 203\u001b[0m     \u001b[39mself\u001b[39;49m\u001b[39m.\u001b[39;49mmanager\u001b[39m.\u001b[39;49mhandle_json(content)\n",
      "File \u001b[1;32mc:\\Python\\Winpython64-3.8.2.0cod\\python-3.8.2.amd64\\lib\\site-packages\\matplotlib\\backends\\backend_webagg_core.py:440\u001b[0m, in \u001b[0;36mFigureManagerWebAgg.handle_json\u001b[1;34m(self, content)\u001b[0m\n\u001b[0;32m    439\u001b[0m \u001b[39mdef\u001b[39;00m \u001b[39mhandle_json\u001b[39m(\u001b[39mself\u001b[39m, content):\n\u001b[1;32m--> 440\u001b[0m     \u001b[39mself\u001b[39;49m\u001b[39m.\u001b[39;49mcanvas\u001b[39m.\u001b[39;49mhandle_event(content)\n",
      "File \u001b[1;32mc:\\Python\\Winpython64-3.8.2.0cod\\python-3.8.2.amd64\\lib\\site-packages\\matplotlib\\backends\\backend_webagg_core.py:240\u001b[0m, in \u001b[0;36mFigureCanvasWebAggCore.handle_event\u001b[1;34m(self, event)\u001b[0m\n\u001b[0;32m    237\u001b[0m e_type \u001b[39m=\u001b[39m event[\u001b[39m'\u001b[39m\u001b[39mtype\u001b[39m\u001b[39m'\u001b[39m]\n\u001b[0;32m    238\u001b[0m handler \u001b[39m=\u001b[39m \u001b[39mgetattr\u001b[39m(\u001b[39mself\u001b[39m, \u001b[39m'\u001b[39m\u001b[39mhandle_\u001b[39m\u001b[39m{0}\u001b[39;00m\u001b[39m'\u001b[39m\u001b[39m.\u001b[39mformat(e_type),\n\u001b[0;32m    239\u001b[0m                   \u001b[39mself\u001b[39m\u001b[39m.\u001b[39mhandle_unknown_event)\n\u001b[1;32m--> 240\u001b[0m \u001b[39mreturn\u001b[39;00m handler(event)\n",
      "File \u001b[1;32mc:\\Python\\Winpython64-3.8.2.0cod\\python-3.8.2.amd64\\lib\\site-packages\\matplotlib\\backends\\backend_webagg_core.py:256\u001b[0m, in \u001b[0;36mFigureCanvasWebAggCore.handle_draw\u001b[1;34m(self, event)\u001b[0m\n\u001b[0;32m    255\u001b[0m \u001b[39mdef\u001b[39;00m \u001b[39mhandle_draw\u001b[39m(\u001b[39mself\u001b[39m, event):\n\u001b[1;32m--> 256\u001b[0m     \u001b[39mself\u001b[39;49m\u001b[39m.\u001b[39;49mdraw()\n",
      "File \u001b[1;32mc:\\Python\\Winpython64-3.8.2.0cod\\python-3.8.2.amd64\\lib\\site-packages\\matplotlib\\backends\\backend_webagg_core.py:151\u001b[0m, in \u001b[0;36mFigureCanvasWebAggCore.draw\u001b[1;34m(self)\u001b[0m\n\u001b[0;32m    149\u001b[0m \u001b[39mself\u001b[39m\u001b[39m.\u001b[39m_png_is_old \u001b[39m=\u001b[39m \u001b[39mTrue\u001b[39;00m\n\u001b[0;32m    150\u001b[0m \u001b[39mtry\u001b[39;00m:\n\u001b[1;32m--> 151\u001b[0m     \u001b[39msuper\u001b[39;49m()\u001b[39m.\u001b[39;49mdraw()\n\u001b[0;32m    152\u001b[0m \u001b[39mfinally\u001b[39;00m:\n\u001b[0;32m    153\u001b[0m     \u001b[39mself\u001b[39m\u001b[39m.\u001b[39mmanager\u001b[39m.\u001b[39mrefresh_all()\n",
      "File \u001b[1;32mc:\\Python\\Winpython64-3.8.2.0cod\\python-3.8.2.amd64\\lib\\site-packages\\matplotlib\\backends\\backend_agg.py:390\u001b[0m, in \u001b[0;36mFigureCanvasAgg.draw\u001b[1;34m(self)\u001b[0m\n\u001b[0;32m    388\u001b[0m \u001b[39mself\u001b[39m\u001b[39m.\u001b[39mrenderer \u001b[39m=\u001b[39m \u001b[39mself\u001b[39m\u001b[39m.\u001b[39mget_renderer(cleared\u001b[39m=\u001b[39m\u001b[39mTrue\u001b[39;00m)\n\u001b[0;32m    389\u001b[0m \u001b[39m# Acquire a lock on the shared font cache.\u001b[39;00m\n\u001b[1;32m--> 390\u001b[0m \u001b[39mwith\u001b[39;00m RendererAgg\u001b[39m.\u001b[39mlock, \\\n\u001b[0;32m    391\u001b[0m      (\u001b[39mself\u001b[39m\u001b[39m.\u001b[39mtoolbar\u001b[39m.\u001b[39m_wait_cursor_for_draw_cm() \u001b[39mif\u001b[39;00m \u001b[39mself\u001b[39m\u001b[39m.\u001b[39mtoolbar\n\u001b[0;32m    392\u001b[0m       \u001b[39melse\u001b[39;00m nullcontext()):\n\u001b[0;32m    393\u001b[0m     \u001b[39mself\u001b[39m\u001b[39m.\u001b[39mfigure\u001b[39m.\u001b[39mdraw(\u001b[39mself\u001b[39m\u001b[39m.\u001b[39mrenderer)\n\u001b[0;32m    394\u001b[0m     \u001b[39m# A GUI class may be need to update a window using this draw, so\u001b[39;00m\n\u001b[0;32m    395\u001b[0m     \u001b[39m# don't forget to call the superclass.\u001b[39;00m\n",
      "File \u001b[1;32mc:\\Python\\Winpython64-3.8.2.0cod\\python-3.8.2.amd64\\lib\\contextlib.py:113\u001b[0m, in \u001b[0;36m_GeneratorContextManager.__enter__\u001b[1;34m(self)\u001b[0m\n\u001b[0;32m    111\u001b[0m \u001b[39mdel\u001b[39;00m \u001b[39mself\u001b[39m\u001b[39m.\u001b[39margs, \u001b[39mself\u001b[39m\u001b[39m.\u001b[39mkwds, \u001b[39mself\u001b[39m\u001b[39m.\u001b[39mfunc\n\u001b[0;32m    112\u001b[0m \u001b[39mtry\u001b[39;00m:\n\u001b[1;32m--> 113\u001b[0m     \u001b[39mreturn\u001b[39;00m \u001b[39mnext\u001b[39;49m(\u001b[39mself\u001b[39;49m\u001b[39m.\u001b[39;49mgen)\n\u001b[0;32m    114\u001b[0m \u001b[39mexcept\u001b[39;00m \u001b[39mStopIteration\u001b[39;00m:\n\u001b[0;32m    115\u001b[0m     \u001b[39mraise\u001b[39;00m \u001b[39mRuntimeError\u001b[39;00m(\u001b[39m\"\u001b[39m\u001b[39mgenerator didn\u001b[39m\u001b[39m'\u001b[39m\u001b[39mt yield\u001b[39m\u001b[39m\"\u001b[39m) \u001b[39mfrom\u001b[39;00m \u001b[39mNone\u001b[39m\n",
      "File \u001b[1;32mc:\\Python\\Winpython64-3.8.2.0cod\\python-3.8.2.amd64\\lib\\site-packages\\matplotlib\\backend_bases.py:2785\u001b[0m, in \u001b[0;36mNavigationToolbar2._wait_cursor_for_draw_cm\u001b[1;34m(self)\u001b[0m\n\u001b[0;32m   2783\u001b[0m \u001b[39mif\u001b[39;00m \u001b[39mself\u001b[39m\u001b[39m.\u001b[39m_draw_time \u001b[39m-\u001b[39m last_draw_time \u001b[39m>\u001b[39m \u001b[39m1\u001b[39m:\n\u001b[0;32m   2784\u001b[0m     \u001b[39mtry\u001b[39;00m:\n\u001b[1;32m-> 2785\u001b[0m         \u001b[39mself\u001b[39;49m\u001b[39m.\u001b[39;49mset_cursor(cursors\u001b[39m.\u001b[39;49mWAIT)\n\u001b[0;32m   2786\u001b[0m         \u001b[39myield\u001b[39;00m\n\u001b[0;32m   2787\u001b[0m     \u001b[39mfinally\u001b[39;00m:\n",
      "File \u001b[1;32mc:\\Python\\Winpython64-3.8.2.0cod\\python-3.8.2.amd64\\lib\\site-packages\\matplotlib\\backends\\backend_webagg_core.py:382\u001b[0m, in \u001b[0;36mNavigationToolbar2WebAgg.set_cursor\u001b[1;34m(self, cursor)\u001b[0m\n\u001b[0;32m    380\u001b[0m \u001b[39mdef\u001b[39;00m \u001b[39mset_cursor\u001b[39m(\u001b[39mself\u001b[39m, cursor):\n\u001b[0;32m    381\u001b[0m     \u001b[39mif\u001b[39;00m cursor \u001b[39m!=\u001b[39m \u001b[39mself\u001b[39m\u001b[39m.\u001b[39mcursor:\n\u001b[1;32m--> 382\u001b[0m         \u001b[39mself\u001b[39;49m\u001b[39m.\u001b[39;49mcanvas\u001b[39m.\u001b[39;49msend_event(\u001b[39m\"\u001b[39;49m\u001b[39mcursor\u001b[39;49m\u001b[39m\"\u001b[39;49m, cursor\u001b[39m=\u001b[39;49mcursor)\n\u001b[0;32m    383\u001b[0m     \u001b[39mself\u001b[39m\u001b[39m.\u001b[39mcursor \u001b[39m=\u001b[39m cursor\n",
      "File \u001b[1;32mc:\\Python\\Winpython64-3.8.2.0cod\\python-3.8.2.amd64\\lib\\site-packages\\matplotlib\\backends\\backend_webagg_core.py:347\u001b[0m, in \u001b[0;36mFigureCanvasWebAggCore.send_event\u001b[1;34m(self, event_type, **kwargs)\u001b[0m\n\u001b[0;32m    345\u001b[0m \u001b[39mdef\u001b[39;00m \u001b[39msend_event\u001b[39m(\u001b[39mself\u001b[39m, event_type, \u001b[39m*\u001b[39m\u001b[39m*\u001b[39mkwargs):\n\u001b[0;32m    346\u001b[0m     \u001b[39mif\u001b[39;00m \u001b[39mself\u001b[39m\u001b[39m.\u001b[39mmanager:\n\u001b[1;32m--> 347\u001b[0m         \u001b[39mself\u001b[39;49m\u001b[39m.\u001b[39;49mmanager\u001b[39m.\u001b[39;49m_send_event(event_type, \u001b[39m*\u001b[39;49m\u001b[39m*\u001b[39;49mkwargs)\n",
      "File \u001b[1;32mc:\\Python\\Winpython64-3.8.2.0cod\\python-3.8.2.amd64\\lib\\site-packages\\matplotlib\\backends\\backend_webagg_core.py:490\u001b[0m, in \u001b[0;36mFigureManagerWebAgg._send_event\u001b[1;34m(self, event_type, **kwargs)\u001b[0m\n\u001b[0;32m    488\u001b[0m payload \u001b[39m=\u001b[39m {\u001b[39m'\u001b[39m\u001b[39mtype\u001b[39m\u001b[39m'\u001b[39m: event_type, \u001b[39m*\u001b[39m\u001b[39m*\u001b[39mkwargs}\n\u001b[0;32m    489\u001b[0m \u001b[39mfor\u001b[39;00m s \u001b[39min\u001b[39;00m \u001b[39mself\u001b[39m\u001b[39m.\u001b[39mweb_sockets:\n\u001b[1;32m--> 490\u001b[0m     s\u001b[39m.\u001b[39;49msend_json(payload)\n",
      "File \u001b[1;32mc:\\Python\\Winpython64-3.8.2.0cod\\python-3.8.2.amd64\\lib\\site-packages\\ipympl\\backend_nbagg.py:209\u001b[0m, in \u001b[0;36mCanvas.send_json\u001b[1;34m(self, content)\u001b[0m\n\u001b[0;32m    207\u001b[0m \u001b[39mif\u001b[39;00m content[\u001b[39m'\u001b[39m\u001b[39mtype\u001b[39m\u001b[39m'\u001b[39m] \u001b[39m==\u001b[39m \u001b[39m'\u001b[39m\u001b[39mcursor\u001b[39m\u001b[39m'\u001b[39m:\n\u001b[0;32m    208\u001b[0m     cursors \u001b[39m=\u001b[39m [\u001b[39m'\u001b[39m\u001b[39mpointer\u001b[39m\u001b[39m'\u001b[39m, \u001b[39m'\u001b[39m\u001b[39mdefault\u001b[39m\u001b[39m'\u001b[39m, \u001b[39m'\u001b[39m\u001b[39mcrosshair\u001b[39m\u001b[39m'\u001b[39m, \u001b[39m'\u001b[39m\u001b[39mmove\u001b[39m\u001b[39m'\u001b[39m]\n\u001b[1;32m--> 209\u001b[0m     \u001b[39mself\u001b[39m\u001b[39m.\u001b[39m_cursor \u001b[39m=\u001b[39m cursors[content[\u001b[39m'\u001b[39;49m\u001b[39mcursor\u001b[39;49m\u001b[39m'\u001b[39;49m]]\n\u001b[0;32m    211\u001b[0m \u001b[39melif\u001b[39;00m content[\u001b[39m'\u001b[39m\u001b[39mtype\u001b[39m\u001b[39m'\u001b[39m] \u001b[39m==\u001b[39m \u001b[39m'\u001b[39m\u001b[39mmessage\u001b[39m\u001b[39m'\u001b[39m:\n\u001b[0;32m    212\u001b[0m     \u001b[39mself\u001b[39m\u001b[39m.\u001b[39m_message \u001b[39m=\u001b[39m content[\u001b[39m'\u001b[39m\u001b[39mmessage\u001b[39m\u001b[39m'\u001b[39m]\n",
      "\u001b[1;31mIndexError\u001b[0m: list index out of range"
     ]
    },
    {
     "ename": "IndexError",
     "evalue": "list index out of range",
     "output_type": "error",
     "traceback": [
      "\u001b[1;31m---------------------------------------------------------------------------\u001b[0m",
      "\u001b[1;31mIndexError\u001b[0m                                Traceback (most recent call last)",
      "File \u001b[1;32mc:\\Python\\Winpython64-3.8.2.0cod\\python-3.8.2.amd64\\lib\\site-packages\\ipympl\\backend_nbagg.py:203\u001b[0m, in \u001b[0;36mCanvas._handle_message\u001b[1;34m(self, object, content, buffers)\u001b[0m\n\u001b[0;32m    201\u001b[0m     \u001b[39mself\u001b[39m\u001b[39m.\u001b[39mmanager\u001b[39m.\u001b[39mresize(w, h)\n\u001b[0;32m    202\u001b[0m \u001b[39melse\u001b[39;00m:\n\u001b[1;32m--> 203\u001b[0m     \u001b[39mself\u001b[39;49m\u001b[39m.\u001b[39;49mmanager\u001b[39m.\u001b[39;49mhandle_json(content)\n",
      "File \u001b[1;32mc:\\Python\\Winpython64-3.8.2.0cod\\python-3.8.2.amd64\\lib\\site-packages\\matplotlib\\backends\\backend_webagg_core.py:440\u001b[0m, in \u001b[0;36mFigureManagerWebAgg.handle_json\u001b[1;34m(self, content)\u001b[0m\n\u001b[0;32m    439\u001b[0m \u001b[39mdef\u001b[39;00m \u001b[39mhandle_json\u001b[39m(\u001b[39mself\u001b[39m, content):\n\u001b[1;32m--> 440\u001b[0m     \u001b[39mself\u001b[39;49m\u001b[39m.\u001b[39;49mcanvas\u001b[39m.\u001b[39;49mhandle_event(content)\n",
      "File \u001b[1;32mc:\\Python\\Winpython64-3.8.2.0cod\\python-3.8.2.amd64\\lib\\site-packages\\matplotlib\\backends\\backend_webagg_core.py:240\u001b[0m, in \u001b[0;36mFigureCanvasWebAggCore.handle_event\u001b[1;34m(self, event)\u001b[0m\n\u001b[0;32m    237\u001b[0m e_type \u001b[39m=\u001b[39m event[\u001b[39m'\u001b[39m\u001b[39mtype\u001b[39m\u001b[39m'\u001b[39m]\n\u001b[0;32m    238\u001b[0m handler \u001b[39m=\u001b[39m \u001b[39mgetattr\u001b[39m(\u001b[39mself\u001b[39m, \u001b[39m'\u001b[39m\u001b[39mhandle_\u001b[39m\u001b[39m{0}\u001b[39;00m\u001b[39m'\u001b[39m\u001b[39m.\u001b[39mformat(e_type),\n\u001b[0;32m    239\u001b[0m                   \u001b[39mself\u001b[39m\u001b[39m.\u001b[39mhandle_unknown_event)\n\u001b[1;32m--> 240\u001b[0m \u001b[39mreturn\u001b[39;00m handler(event)\n",
      "File \u001b[1;32mc:\\Python\\Winpython64-3.8.2.0cod\\python-3.8.2.amd64\\lib\\site-packages\\matplotlib\\backends\\backend_webagg_core.py:256\u001b[0m, in \u001b[0;36mFigureCanvasWebAggCore.handle_draw\u001b[1;34m(self, event)\u001b[0m\n\u001b[0;32m    255\u001b[0m \u001b[39mdef\u001b[39;00m \u001b[39mhandle_draw\u001b[39m(\u001b[39mself\u001b[39m, event):\n\u001b[1;32m--> 256\u001b[0m     \u001b[39mself\u001b[39;49m\u001b[39m.\u001b[39;49mdraw()\n",
      "File \u001b[1;32mc:\\Python\\Winpython64-3.8.2.0cod\\python-3.8.2.amd64\\lib\\site-packages\\matplotlib\\backends\\backend_webagg_core.py:151\u001b[0m, in \u001b[0;36mFigureCanvasWebAggCore.draw\u001b[1;34m(self)\u001b[0m\n\u001b[0;32m    149\u001b[0m \u001b[39mself\u001b[39m\u001b[39m.\u001b[39m_png_is_old \u001b[39m=\u001b[39m \u001b[39mTrue\u001b[39;00m\n\u001b[0;32m    150\u001b[0m \u001b[39mtry\u001b[39;00m:\n\u001b[1;32m--> 151\u001b[0m     \u001b[39msuper\u001b[39;49m()\u001b[39m.\u001b[39;49mdraw()\n\u001b[0;32m    152\u001b[0m \u001b[39mfinally\u001b[39;00m:\n\u001b[0;32m    153\u001b[0m     \u001b[39mself\u001b[39m\u001b[39m.\u001b[39mmanager\u001b[39m.\u001b[39mrefresh_all()\n",
      "File \u001b[1;32mc:\\Python\\Winpython64-3.8.2.0cod\\python-3.8.2.amd64\\lib\\site-packages\\matplotlib\\backends\\backend_agg.py:390\u001b[0m, in \u001b[0;36mFigureCanvasAgg.draw\u001b[1;34m(self)\u001b[0m\n\u001b[0;32m    388\u001b[0m \u001b[39mself\u001b[39m\u001b[39m.\u001b[39mrenderer \u001b[39m=\u001b[39m \u001b[39mself\u001b[39m\u001b[39m.\u001b[39mget_renderer(cleared\u001b[39m=\u001b[39m\u001b[39mTrue\u001b[39;00m)\n\u001b[0;32m    389\u001b[0m \u001b[39m# Acquire a lock on the shared font cache.\u001b[39;00m\n\u001b[1;32m--> 390\u001b[0m \u001b[39mwith\u001b[39;00m RendererAgg\u001b[39m.\u001b[39mlock, \\\n\u001b[0;32m    391\u001b[0m      (\u001b[39mself\u001b[39m\u001b[39m.\u001b[39mtoolbar\u001b[39m.\u001b[39m_wait_cursor_for_draw_cm() \u001b[39mif\u001b[39;00m \u001b[39mself\u001b[39m\u001b[39m.\u001b[39mtoolbar\n\u001b[0;32m    392\u001b[0m       \u001b[39melse\u001b[39;00m nullcontext()):\n\u001b[0;32m    393\u001b[0m     \u001b[39mself\u001b[39m\u001b[39m.\u001b[39mfigure\u001b[39m.\u001b[39mdraw(\u001b[39mself\u001b[39m\u001b[39m.\u001b[39mrenderer)\n\u001b[0;32m    394\u001b[0m     \u001b[39m# A GUI class may be need to update a window using this draw, so\u001b[39;00m\n\u001b[0;32m    395\u001b[0m     \u001b[39m# don't forget to call the superclass.\u001b[39;00m\n",
      "File \u001b[1;32mc:\\Python\\Winpython64-3.8.2.0cod\\python-3.8.2.amd64\\lib\\contextlib.py:113\u001b[0m, in \u001b[0;36m_GeneratorContextManager.__enter__\u001b[1;34m(self)\u001b[0m\n\u001b[0;32m    111\u001b[0m \u001b[39mdel\u001b[39;00m \u001b[39mself\u001b[39m\u001b[39m.\u001b[39margs, \u001b[39mself\u001b[39m\u001b[39m.\u001b[39mkwds, \u001b[39mself\u001b[39m\u001b[39m.\u001b[39mfunc\n\u001b[0;32m    112\u001b[0m \u001b[39mtry\u001b[39;00m:\n\u001b[1;32m--> 113\u001b[0m     \u001b[39mreturn\u001b[39;00m \u001b[39mnext\u001b[39;49m(\u001b[39mself\u001b[39;49m\u001b[39m.\u001b[39;49mgen)\n\u001b[0;32m    114\u001b[0m \u001b[39mexcept\u001b[39;00m \u001b[39mStopIteration\u001b[39;00m:\n\u001b[0;32m    115\u001b[0m     \u001b[39mraise\u001b[39;00m \u001b[39mRuntimeError\u001b[39;00m(\u001b[39m\"\u001b[39m\u001b[39mgenerator didn\u001b[39m\u001b[39m'\u001b[39m\u001b[39mt yield\u001b[39m\u001b[39m\"\u001b[39m) \u001b[39mfrom\u001b[39;00m \u001b[39mNone\u001b[39m\n",
      "File \u001b[1;32mc:\\Python\\Winpython64-3.8.2.0cod\\python-3.8.2.amd64\\lib\\site-packages\\matplotlib\\backend_bases.py:2785\u001b[0m, in \u001b[0;36mNavigationToolbar2._wait_cursor_for_draw_cm\u001b[1;34m(self)\u001b[0m\n\u001b[0;32m   2783\u001b[0m \u001b[39mif\u001b[39;00m \u001b[39mself\u001b[39m\u001b[39m.\u001b[39m_draw_time \u001b[39m-\u001b[39m last_draw_time \u001b[39m>\u001b[39m \u001b[39m1\u001b[39m:\n\u001b[0;32m   2784\u001b[0m     \u001b[39mtry\u001b[39;00m:\n\u001b[1;32m-> 2785\u001b[0m         \u001b[39mself\u001b[39;49m\u001b[39m.\u001b[39;49mset_cursor(cursors\u001b[39m.\u001b[39;49mWAIT)\n\u001b[0;32m   2786\u001b[0m         \u001b[39myield\u001b[39;00m\n\u001b[0;32m   2787\u001b[0m     \u001b[39mfinally\u001b[39;00m:\n",
      "File \u001b[1;32mc:\\Python\\Winpython64-3.8.2.0cod\\python-3.8.2.amd64\\lib\\site-packages\\matplotlib\\backends\\backend_webagg_core.py:382\u001b[0m, in \u001b[0;36mNavigationToolbar2WebAgg.set_cursor\u001b[1;34m(self, cursor)\u001b[0m\n\u001b[0;32m    380\u001b[0m \u001b[39mdef\u001b[39;00m \u001b[39mset_cursor\u001b[39m(\u001b[39mself\u001b[39m, cursor):\n\u001b[0;32m    381\u001b[0m     \u001b[39mif\u001b[39;00m cursor \u001b[39m!=\u001b[39m \u001b[39mself\u001b[39m\u001b[39m.\u001b[39mcursor:\n\u001b[1;32m--> 382\u001b[0m         \u001b[39mself\u001b[39;49m\u001b[39m.\u001b[39;49mcanvas\u001b[39m.\u001b[39;49msend_event(\u001b[39m\"\u001b[39;49m\u001b[39mcursor\u001b[39;49m\u001b[39m\"\u001b[39;49m, cursor\u001b[39m=\u001b[39;49mcursor)\n\u001b[0;32m    383\u001b[0m     \u001b[39mself\u001b[39m\u001b[39m.\u001b[39mcursor \u001b[39m=\u001b[39m cursor\n",
      "File \u001b[1;32mc:\\Python\\Winpython64-3.8.2.0cod\\python-3.8.2.amd64\\lib\\site-packages\\matplotlib\\backends\\backend_webagg_core.py:347\u001b[0m, in \u001b[0;36mFigureCanvasWebAggCore.send_event\u001b[1;34m(self, event_type, **kwargs)\u001b[0m\n\u001b[0;32m    345\u001b[0m \u001b[39mdef\u001b[39;00m \u001b[39msend_event\u001b[39m(\u001b[39mself\u001b[39m, event_type, \u001b[39m*\u001b[39m\u001b[39m*\u001b[39mkwargs):\n\u001b[0;32m    346\u001b[0m     \u001b[39mif\u001b[39;00m \u001b[39mself\u001b[39m\u001b[39m.\u001b[39mmanager:\n\u001b[1;32m--> 347\u001b[0m         \u001b[39mself\u001b[39;49m\u001b[39m.\u001b[39;49mmanager\u001b[39m.\u001b[39;49m_send_event(event_type, \u001b[39m*\u001b[39;49m\u001b[39m*\u001b[39;49mkwargs)\n",
      "File \u001b[1;32mc:\\Python\\Winpython64-3.8.2.0cod\\python-3.8.2.amd64\\lib\\site-packages\\matplotlib\\backends\\backend_webagg_core.py:490\u001b[0m, in \u001b[0;36mFigureManagerWebAgg._send_event\u001b[1;34m(self, event_type, **kwargs)\u001b[0m\n\u001b[0;32m    488\u001b[0m payload \u001b[39m=\u001b[39m {\u001b[39m'\u001b[39m\u001b[39mtype\u001b[39m\u001b[39m'\u001b[39m: event_type, \u001b[39m*\u001b[39m\u001b[39m*\u001b[39mkwargs}\n\u001b[0;32m    489\u001b[0m \u001b[39mfor\u001b[39;00m s \u001b[39min\u001b[39;00m \u001b[39mself\u001b[39m\u001b[39m.\u001b[39mweb_sockets:\n\u001b[1;32m--> 490\u001b[0m     s\u001b[39m.\u001b[39;49msend_json(payload)\n",
      "File \u001b[1;32mc:\\Python\\Winpython64-3.8.2.0cod\\python-3.8.2.amd64\\lib\\site-packages\\ipympl\\backend_nbagg.py:209\u001b[0m, in \u001b[0;36mCanvas.send_json\u001b[1;34m(self, content)\u001b[0m\n\u001b[0;32m    207\u001b[0m \u001b[39mif\u001b[39;00m content[\u001b[39m'\u001b[39m\u001b[39mtype\u001b[39m\u001b[39m'\u001b[39m] \u001b[39m==\u001b[39m \u001b[39m'\u001b[39m\u001b[39mcursor\u001b[39m\u001b[39m'\u001b[39m:\n\u001b[0;32m    208\u001b[0m     cursors \u001b[39m=\u001b[39m [\u001b[39m'\u001b[39m\u001b[39mpointer\u001b[39m\u001b[39m'\u001b[39m, \u001b[39m'\u001b[39m\u001b[39mdefault\u001b[39m\u001b[39m'\u001b[39m, \u001b[39m'\u001b[39m\u001b[39mcrosshair\u001b[39m\u001b[39m'\u001b[39m, \u001b[39m'\u001b[39m\u001b[39mmove\u001b[39m\u001b[39m'\u001b[39m]\n\u001b[1;32m--> 209\u001b[0m     \u001b[39mself\u001b[39m\u001b[39m.\u001b[39m_cursor \u001b[39m=\u001b[39m cursors[content[\u001b[39m'\u001b[39;49m\u001b[39mcursor\u001b[39;49m\u001b[39m'\u001b[39;49m]]\n\u001b[0;32m    211\u001b[0m \u001b[39melif\u001b[39;00m content[\u001b[39m'\u001b[39m\u001b[39mtype\u001b[39m\u001b[39m'\u001b[39m] \u001b[39m==\u001b[39m \u001b[39m'\u001b[39m\u001b[39mmessage\u001b[39m\u001b[39m'\u001b[39m:\n\u001b[0;32m    212\u001b[0m     \u001b[39mself\u001b[39m\u001b[39m.\u001b[39m_message \u001b[39m=\u001b[39m content[\u001b[39m'\u001b[39m\u001b[39mmessage\u001b[39m\u001b[39m'\u001b[39m]\n",
      "\u001b[1;31mIndexError\u001b[0m: list index out of range"
     ]
    },
    {
     "ename": "IndexError",
     "evalue": "list index out of range",
     "output_type": "error",
     "traceback": [
      "\u001b[1;31m---------------------------------------------------------------------------\u001b[0m",
      "\u001b[1;31mIndexError\u001b[0m                                Traceback (most recent call last)",
      "File \u001b[1;32mc:\\Python\\Winpython64-3.8.2.0cod\\python-3.8.2.amd64\\lib\\site-packages\\ipympl\\backend_nbagg.py:203\u001b[0m, in \u001b[0;36mCanvas._handle_message\u001b[1;34m(self, object, content, buffers)\u001b[0m\n\u001b[0;32m    201\u001b[0m     \u001b[39mself\u001b[39m\u001b[39m.\u001b[39mmanager\u001b[39m.\u001b[39mresize(w, h)\n\u001b[0;32m    202\u001b[0m \u001b[39melse\u001b[39;00m:\n\u001b[1;32m--> 203\u001b[0m     \u001b[39mself\u001b[39;49m\u001b[39m.\u001b[39;49mmanager\u001b[39m.\u001b[39;49mhandle_json(content)\n",
      "File \u001b[1;32mc:\\Python\\Winpython64-3.8.2.0cod\\python-3.8.2.amd64\\lib\\site-packages\\matplotlib\\backends\\backend_webagg_core.py:440\u001b[0m, in \u001b[0;36mFigureManagerWebAgg.handle_json\u001b[1;34m(self, content)\u001b[0m\n\u001b[0;32m    439\u001b[0m \u001b[39mdef\u001b[39;00m \u001b[39mhandle_json\u001b[39m(\u001b[39mself\u001b[39m, content):\n\u001b[1;32m--> 440\u001b[0m     \u001b[39mself\u001b[39;49m\u001b[39m.\u001b[39;49mcanvas\u001b[39m.\u001b[39;49mhandle_event(content)\n",
      "File \u001b[1;32mc:\\Python\\Winpython64-3.8.2.0cod\\python-3.8.2.amd64\\lib\\site-packages\\matplotlib\\backends\\backend_webagg_core.py:240\u001b[0m, in \u001b[0;36mFigureCanvasWebAggCore.handle_event\u001b[1;34m(self, event)\u001b[0m\n\u001b[0;32m    237\u001b[0m e_type \u001b[39m=\u001b[39m event[\u001b[39m'\u001b[39m\u001b[39mtype\u001b[39m\u001b[39m'\u001b[39m]\n\u001b[0;32m    238\u001b[0m handler \u001b[39m=\u001b[39m \u001b[39mgetattr\u001b[39m(\u001b[39mself\u001b[39m, \u001b[39m'\u001b[39m\u001b[39mhandle_\u001b[39m\u001b[39m{0}\u001b[39;00m\u001b[39m'\u001b[39m\u001b[39m.\u001b[39mformat(e_type),\n\u001b[0;32m    239\u001b[0m                   \u001b[39mself\u001b[39m\u001b[39m.\u001b[39mhandle_unknown_event)\n\u001b[1;32m--> 240\u001b[0m \u001b[39mreturn\u001b[39;00m handler(event)\n",
      "File \u001b[1;32mc:\\Python\\Winpython64-3.8.2.0cod\\python-3.8.2.amd64\\lib\\site-packages\\matplotlib\\backends\\backend_webagg_core.py:256\u001b[0m, in \u001b[0;36mFigureCanvasWebAggCore.handle_draw\u001b[1;34m(self, event)\u001b[0m\n\u001b[0;32m    255\u001b[0m \u001b[39mdef\u001b[39;00m \u001b[39mhandle_draw\u001b[39m(\u001b[39mself\u001b[39m, event):\n\u001b[1;32m--> 256\u001b[0m     \u001b[39mself\u001b[39;49m\u001b[39m.\u001b[39;49mdraw()\n",
      "File \u001b[1;32mc:\\Python\\Winpython64-3.8.2.0cod\\python-3.8.2.amd64\\lib\\site-packages\\matplotlib\\backends\\backend_webagg_core.py:151\u001b[0m, in \u001b[0;36mFigureCanvasWebAggCore.draw\u001b[1;34m(self)\u001b[0m\n\u001b[0;32m    149\u001b[0m \u001b[39mself\u001b[39m\u001b[39m.\u001b[39m_png_is_old \u001b[39m=\u001b[39m \u001b[39mTrue\u001b[39;00m\n\u001b[0;32m    150\u001b[0m \u001b[39mtry\u001b[39;00m:\n\u001b[1;32m--> 151\u001b[0m     \u001b[39msuper\u001b[39;49m()\u001b[39m.\u001b[39;49mdraw()\n\u001b[0;32m    152\u001b[0m \u001b[39mfinally\u001b[39;00m:\n\u001b[0;32m    153\u001b[0m     \u001b[39mself\u001b[39m\u001b[39m.\u001b[39mmanager\u001b[39m.\u001b[39mrefresh_all()\n",
      "File \u001b[1;32mc:\\Python\\Winpython64-3.8.2.0cod\\python-3.8.2.amd64\\lib\\site-packages\\matplotlib\\backends\\backend_agg.py:390\u001b[0m, in \u001b[0;36mFigureCanvasAgg.draw\u001b[1;34m(self)\u001b[0m\n\u001b[0;32m    388\u001b[0m \u001b[39mself\u001b[39m\u001b[39m.\u001b[39mrenderer \u001b[39m=\u001b[39m \u001b[39mself\u001b[39m\u001b[39m.\u001b[39mget_renderer(cleared\u001b[39m=\u001b[39m\u001b[39mTrue\u001b[39;00m)\n\u001b[0;32m    389\u001b[0m \u001b[39m# Acquire a lock on the shared font cache.\u001b[39;00m\n\u001b[1;32m--> 390\u001b[0m \u001b[39mwith\u001b[39;00m RendererAgg\u001b[39m.\u001b[39mlock, \\\n\u001b[0;32m    391\u001b[0m      (\u001b[39mself\u001b[39m\u001b[39m.\u001b[39mtoolbar\u001b[39m.\u001b[39m_wait_cursor_for_draw_cm() \u001b[39mif\u001b[39;00m \u001b[39mself\u001b[39m\u001b[39m.\u001b[39mtoolbar\n\u001b[0;32m    392\u001b[0m       \u001b[39melse\u001b[39;00m nullcontext()):\n\u001b[0;32m    393\u001b[0m     \u001b[39mself\u001b[39m\u001b[39m.\u001b[39mfigure\u001b[39m.\u001b[39mdraw(\u001b[39mself\u001b[39m\u001b[39m.\u001b[39mrenderer)\n\u001b[0;32m    394\u001b[0m     \u001b[39m# A GUI class may be need to update a window using this draw, so\u001b[39;00m\n\u001b[0;32m    395\u001b[0m     \u001b[39m# don't forget to call the superclass.\u001b[39;00m\n",
      "File \u001b[1;32mc:\\Python\\Winpython64-3.8.2.0cod\\python-3.8.2.amd64\\lib\\contextlib.py:113\u001b[0m, in \u001b[0;36m_GeneratorContextManager.__enter__\u001b[1;34m(self)\u001b[0m\n\u001b[0;32m    111\u001b[0m \u001b[39mdel\u001b[39;00m \u001b[39mself\u001b[39m\u001b[39m.\u001b[39margs, \u001b[39mself\u001b[39m\u001b[39m.\u001b[39mkwds, \u001b[39mself\u001b[39m\u001b[39m.\u001b[39mfunc\n\u001b[0;32m    112\u001b[0m \u001b[39mtry\u001b[39;00m:\n\u001b[1;32m--> 113\u001b[0m     \u001b[39mreturn\u001b[39;00m \u001b[39mnext\u001b[39;49m(\u001b[39mself\u001b[39;49m\u001b[39m.\u001b[39;49mgen)\n\u001b[0;32m    114\u001b[0m \u001b[39mexcept\u001b[39;00m \u001b[39mStopIteration\u001b[39;00m:\n\u001b[0;32m    115\u001b[0m     \u001b[39mraise\u001b[39;00m \u001b[39mRuntimeError\u001b[39;00m(\u001b[39m\"\u001b[39m\u001b[39mgenerator didn\u001b[39m\u001b[39m'\u001b[39m\u001b[39mt yield\u001b[39m\u001b[39m\"\u001b[39m) \u001b[39mfrom\u001b[39;00m \u001b[39mNone\u001b[39m\n",
      "File \u001b[1;32mc:\\Python\\Winpython64-3.8.2.0cod\\python-3.8.2.amd64\\lib\\site-packages\\matplotlib\\backend_bases.py:2785\u001b[0m, in \u001b[0;36mNavigationToolbar2._wait_cursor_for_draw_cm\u001b[1;34m(self)\u001b[0m\n\u001b[0;32m   2783\u001b[0m \u001b[39mif\u001b[39;00m \u001b[39mself\u001b[39m\u001b[39m.\u001b[39m_draw_time \u001b[39m-\u001b[39m last_draw_time \u001b[39m>\u001b[39m \u001b[39m1\u001b[39m:\n\u001b[0;32m   2784\u001b[0m     \u001b[39mtry\u001b[39;00m:\n\u001b[1;32m-> 2785\u001b[0m         \u001b[39mself\u001b[39;49m\u001b[39m.\u001b[39;49mset_cursor(cursors\u001b[39m.\u001b[39;49mWAIT)\n\u001b[0;32m   2786\u001b[0m         \u001b[39myield\u001b[39;00m\n\u001b[0;32m   2787\u001b[0m     \u001b[39mfinally\u001b[39;00m:\n",
      "File \u001b[1;32mc:\\Python\\Winpython64-3.8.2.0cod\\python-3.8.2.amd64\\lib\\site-packages\\matplotlib\\backends\\backend_webagg_core.py:382\u001b[0m, in \u001b[0;36mNavigationToolbar2WebAgg.set_cursor\u001b[1;34m(self, cursor)\u001b[0m\n\u001b[0;32m    380\u001b[0m \u001b[39mdef\u001b[39;00m \u001b[39mset_cursor\u001b[39m(\u001b[39mself\u001b[39m, cursor):\n\u001b[0;32m    381\u001b[0m     \u001b[39mif\u001b[39;00m cursor \u001b[39m!=\u001b[39m \u001b[39mself\u001b[39m\u001b[39m.\u001b[39mcursor:\n\u001b[1;32m--> 382\u001b[0m         \u001b[39mself\u001b[39;49m\u001b[39m.\u001b[39;49mcanvas\u001b[39m.\u001b[39;49msend_event(\u001b[39m\"\u001b[39;49m\u001b[39mcursor\u001b[39;49m\u001b[39m\"\u001b[39;49m, cursor\u001b[39m=\u001b[39;49mcursor)\n\u001b[0;32m    383\u001b[0m     \u001b[39mself\u001b[39m\u001b[39m.\u001b[39mcursor \u001b[39m=\u001b[39m cursor\n",
      "File \u001b[1;32mc:\\Python\\Winpython64-3.8.2.0cod\\python-3.8.2.amd64\\lib\\site-packages\\matplotlib\\backends\\backend_webagg_core.py:347\u001b[0m, in \u001b[0;36mFigureCanvasWebAggCore.send_event\u001b[1;34m(self, event_type, **kwargs)\u001b[0m\n\u001b[0;32m    345\u001b[0m \u001b[39mdef\u001b[39;00m \u001b[39msend_event\u001b[39m(\u001b[39mself\u001b[39m, event_type, \u001b[39m*\u001b[39m\u001b[39m*\u001b[39mkwargs):\n\u001b[0;32m    346\u001b[0m     \u001b[39mif\u001b[39;00m \u001b[39mself\u001b[39m\u001b[39m.\u001b[39mmanager:\n\u001b[1;32m--> 347\u001b[0m         \u001b[39mself\u001b[39;49m\u001b[39m.\u001b[39;49mmanager\u001b[39m.\u001b[39;49m_send_event(event_type, \u001b[39m*\u001b[39;49m\u001b[39m*\u001b[39;49mkwargs)\n",
      "File \u001b[1;32mc:\\Python\\Winpython64-3.8.2.0cod\\python-3.8.2.amd64\\lib\\site-packages\\matplotlib\\backends\\backend_webagg_core.py:490\u001b[0m, in \u001b[0;36mFigureManagerWebAgg._send_event\u001b[1;34m(self, event_type, **kwargs)\u001b[0m\n\u001b[0;32m    488\u001b[0m payload \u001b[39m=\u001b[39m {\u001b[39m'\u001b[39m\u001b[39mtype\u001b[39m\u001b[39m'\u001b[39m: event_type, \u001b[39m*\u001b[39m\u001b[39m*\u001b[39mkwargs}\n\u001b[0;32m    489\u001b[0m \u001b[39mfor\u001b[39;00m s \u001b[39min\u001b[39;00m \u001b[39mself\u001b[39m\u001b[39m.\u001b[39mweb_sockets:\n\u001b[1;32m--> 490\u001b[0m     s\u001b[39m.\u001b[39;49msend_json(payload)\n",
      "File \u001b[1;32mc:\\Python\\Winpython64-3.8.2.0cod\\python-3.8.2.amd64\\lib\\site-packages\\ipympl\\backend_nbagg.py:209\u001b[0m, in \u001b[0;36mCanvas.send_json\u001b[1;34m(self, content)\u001b[0m\n\u001b[0;32m    207\u001b[0m \u001b[39mif\u001b[39;00m content[\u001b[39m'\u001b[39m\u001b[39mtype\u001b[39m\u001b[39m'\u001b[39m] \u001b[39m==\u001b[39m \u001b[39m'\u001b[39m\u001b[39mcursor\u001b[39m\u001b[39m'\u001b[39m:\n\u001b[0;32m    208\u001b[0m     cursors \u001b[39m=\u001b[39m [\u001b[39m'\u001b[39m\u001b[39mpointer\u001b[39m\u001b[39m'\u001b[39m, \u001b[39m'\u001b[39m\u001b[39mdefault\u001b[39m\u001b[39m'\u001b[39m, \u001b[39m'\u001b[39m\u001b[39mcrosshair\u001b[39m\u001b[39m'\u001b[39m, \u001b[39m'\u001b[39m\u001b[39mmove\u001b[39m\u001b[39m'\u001b[39m]\n\u001b[1;32m--> 209\u001b[0m     \u001b[39mself\u001b[39m\u001b[39m.\u001b[39m_cursor \u001b[39m=\u001b[39m cursors[content[\u001b[39m'\u001b[39;49m\u001b[39mcursor\u001b[39;49m\u001b[39m'\u001b[39;49m]]\n\u001b[0;32m    211\u001b[0m \u001b[39melif\u001b[39;00m content[\u001b[39m'\u001b[39m\u001b[39mtype\u001b[39m\u001b[39m'\u001b[39m] \u001b[39m==\u001b[39m \u001b[39m'\u001b[39m\u001b[39mmessage\u001b[39m\u001b[39m'\u001b[39m:\n\u001b[0;32m    212\u001b[0m     \u001b[39mself\u001b[39m\u001b[39m.\u001b[39m_message \u001b[39m=\u001b[39m content[\u001b[39m'\u001b[39m\u001b[39mmessage\u001b[39m\u001b[39m'\u001b[39m]\n",
      "\u001b[1;31mIndexError\u001b[0m: list index out of range"
     ]
    }
   ],
   "source": [
    "plt_mc(X_train,y_train,classes, centers, std=std)"
   ]
  },
  {
   "cell_type": "markdown",
   "metadata": {},
   "source": [
    "Each dot represents a training example. The axis (x0,x1) are the inputs and the color represents the class the example is associated with. Once trained, the model will be presented with a new example, (x0,x1), and will predict the class.  \n",
    "\n",
    "While generated, this data set is representative of many real-world classification problems. There are several input features (x0,...,xn) and several output categories. The model is trained to use the input features to predict the correct output category."
   ]
  },
  {
   "cell_type": "code",
   "execution_count": 4,
   "metadata": {},
   "outputs": [
    {
     "name": "stdout",
     "output_type": "stream",
     "text": [
      "unique classes [0 1 2 3]\n",
      "class representation [3 3 3 0 3 3 3 3 2 0]\n",
      "shape of X_train: (100, 2), shape of y_train: (100,)\n"
     ]
    }
   ],
   "source": [
    "# show classes in data set\n",
    "print(f\"unique classes {np.unique(y_train)}\")\n",
    "# show how classes are represented\n",
    "print(f\"class representation {y_train[:10]}\")\n",
    "# show shapes of our dataset\n",
    "print(f\"shape of X_train: {X_train.shape}, shape of y_train: {y_train.shape}\")"
   ]
  },
  {
   "cell_type": "markdown",
   "metadata": {
    "tags": []
   },
   "source": [
    "## 2.2 Model\n",
    "<img align=\"Right\" src=\"./images/C2_W2_mclass_lab_network.PNG\"  style=\" width:350px; padding: 10px 20px ; \">\n",
    "This lab will use a 2-layer network as shown.\n",
    "Unlike the binary classification networks, this network has four outputs, one for each class. Given an input example, the output with the highest value is the predicted class of the input.   \n",
    "\n",
    "Below is an example of how to construct this network in Tensorflow. Notice the output layer uses a `linear` rather than a `softmax` activation. While it is possible to include the softmax in the output layer, it is more numerically stable if linear outputs are passed to the loss function during training. If the model is used to predict probabilities, the softmax can be applied at that point."
   ]
  },
  {
   "cell_type": "code",
   "execution_count": 5,
   "metadata": {},
   "outputs": [],
   "source": [
    "tf.random.set_seed(1234)  # applied to achieve consistent results\n",
    "model = Sequential(\n",
    "    [\n",
    "        Dense(2, activation = 'relu',   name = \"L1\"),\n",
    "        Dense(4, activation = 'linear', name = \"L2\")\n",
    "    ]\n",
    ")"
   ]
  },
  {
   "cell_type": "markdown",
   "metadata": {},
   "source": [
    "The statements below compile and train the network. Setting `from_logits=True` as an argument to the loss function specifies that the output activation was linear rather than a softmax."
   ]
  },
  {
   "cell_type": "code",
   "execution_count": 6,
   "metadata": {
    "scrolled": true,
    "tags": []
   },
   "outputs": [
    {
     "name": "stdout",
     "output_type": "stream",
     "text": [
      "Epoch 1/200\n",
      "4/4 [==============================] - 0s 2ms/step - loss: 2.3115\n",
      "Epoch 2/200\n",
      "4/4 [==============================] - 0s 1ms/step - loss: 2.0846\n",
      "Epoch 3/200\n",
      "4/4 [==============================] - 0s 2ms/step - loss: 1.8913\n",
      "Epoch 4/200\n",
      "4/4 [==============================] - 0s 2ms/step - loss: 1.7317\n",
      "Epoch 5/200\n",
      "4/4 [==============================] - 0s 1ms/step - loss: 1.6000\n",
      "Epoch 6/200\n",
      "4/4 [==============================] - 0s 2ms/step - loss: 1.4695\n",
      "Epoch 7/200\n",
      "4/4 [==============================] - 0s 1ms/step - loss: 1.3694\n",
      "Epoch 8/200\n",
      "4/4 [==============================] - 0s 2ms/step - loss: 1.2775\n",
      "Epoch 9/200\n",
      "4/4 [==============================] - 0s 3ms/step - loss: 1.2044\n",
      "Epoch 10/200\n",
      "4/4 [==============================] - 0s 2ms/step - loss: 1.1276\n",
      "Epoch 11/200\n",
      "4/4 [==============================] - 0s 2ms/step - loss: 1.0677\n",
      "Epoch 12/200\n",
      "4/4 [==============================] - 0s 2ms/step - loss: 1.0119\n",
      "Epoch 13/200\n",
      "4/4 [==============================] - 0s 1ms/step - loss: 0.9666\n",
      "Epoch 14/200\n",
      "4/4 [==============================] - 0s 2ms/step - loss: 0.9269\n",
      "Epoch 15/200\n",
      "4/4 [==============================] - 0s 2ms/step - loss: 0.8890\n",
      "Epoch 16/200\n",
      "4/4 [==============================] - 0s 2ms/step - loss: 0.8593\n",
      "Epoch 17/200\n",
      "4/4 [==============================] - 0s 1ms/step - loss: 0.8322\n",
      "Epoch 18/200\n",
      "4/4 [==============================] - 0s 2ms/step - loss: 0.8046\n",
      "Epoch 19/200\n",
      "4/4 [==============================] - 0s 2ms/step - loss: 0.7813\n",
      "Epoch 20/200\n",
      "4/4 [==============================] - 0s 1ms/step - loss: 0.7575\n",
      "Epoch 21/200\n",
      "4/4 [==============================] - 0s 1ms/step - loss: 0.7371\n",
      "Epoch 22/200\n",
      "4/4 [==============================] - 0s 1ms/step - loss: 0.7165\n",
      "Epoch 23/200\n",
      "4/4 [==============================] - 0s 2ms/step - loss: 0.6976\n",
      "Epoch 24/200\n",
      "4/4 [==============================] - 0s 1ms/step - loss: 0.6793\n",
      "Epoch 25/200\n",
      "4/4 [==============================] - 0s 1ms/step - loss: 0.6600\n",
      "Epoch 26/200\n",
      "4/4 [==============================] - 0s 2ms/step - loss: 0.6468\n",
      "Epoch 27/200\n",
      "4/4 [==============================] - 0s 1ms/step - loss: 0.6326\n",
      "Epoch 28/200\n",
      "4/4 [==============================] - 0s 2ms/step - loss: 0.6215\n",
      "Epoch 29/200\n",
      "4/4 [==============================] - 0s 1ms/step - loss: 0.6098\n",
      "Epoch 30/200\n",
      "4/4 [==============================] - 0s 1ms/step - loss: 0.5962\n",
      "Epoch 31/200\n",
      "4/4 [==============================] - 0s 1ms/step - loss: 0.5818\n",
      "Epoch 32/200\n",
      "4/4 [==============================] - 0s 2ms/step - loss: 0.5679\n",
      "Epoch 33/200\n",
      "4/4 [==============================] - 0s 2ms/step - loss: 0.5553\n",
      "Epoch 34/200\n",
      "4/4 [==============================] - 0s 2ms/step - loss: 0.5479\n",
      "Epoch 35/200\n",
      "4/4 [==============================] - 0s 1ms/step - loss: 0.5369\n",
      "Epoch 36/200\n",
      "4/4 [==============================] - 0s 2ms/step - loss: 0.5267\n",
      "Epoch 37/200\n",
      "4/4 [==============================] - 0s 3ms/step - loss: 0.5174\n",
      "Epoch 38/200\n",
      "4/4 [==============================] - 0s 3ms/step - loss: 0.5061\n",
      "Epoch 39/200\n",
      "4/4 [==============================] - 0s 2ms/step - loss: 0.4969\n",
      "Epoch 40/200\n",
      "4/4 [==============================] - 0s 2ms/step - loss: 0.4878\n",
      "Epoch 41/200\n",
      "4/4 [==============================] - 0s 1ms/step - loss: 0.4789\n",
      "Epoch 42/200\n",
      "4/4 [==============================] - 0s 2ms/step - loss: 0.4713\n",
      "Epoch 43/200\n",
      "4/4 [==============================] - 0s 1ms/step - loss: 0.4628\n",
      "Epoch 44/200\n",
      "4/4 [==============================] - 0s 2ms/step - loss: 0.4548\n",
      "Epoch 45/200\n",
      "4/4 [==============================] - 0s 1ms/step - loss: 0.4460\n",
      "Epoch 46/200\n",
      "4/4 [==============================] - 0s 2ms/step - loss: 0.4372\n",
      "Epoch 47/200\n",
      "4/4 [==============================] - 0s 1ms/step - loss: 0.4266\n",
      "Epoch 48/200\n",
      "4/4 [==============================] - 0s 1ms/step - loss: 0.4169\n",
      "Epoch 49/200\n",
      "4/4 [==============================] - 0s 2ms/step - loss: 0.4071\n",
      "Epoch 50/200\n",
      "4/4 [==============================] - 0s 2ms/step - loss: 0.3959\n",
      "Epoch 51/200\n",
      "4/4 [==============================] - 0s 2ms/step - loss: 0.3872\n",
      "Epoch 52/200\n",
      "4/4 [==============================] - 0s 2ms/step - loss: 0.3740\n",
      "Epoch 53/200\n",
      "4/4 [==============================] - 0s 2ms/step - loss: 0.3625\n",
      "Epoch 54/200\n",
      "4/4 [==============================] - 0s 1ms/step - loss: 0.3505\n",
      "Epoch 55/200\n",
      "4/4 [==============================] - 0s 1ms/step - loss: 0.3392\n",
      "Epoch 56/200\n",
      "4/4 [==============================] - 0s 2ms/step - loss: 0.3271\n",
      "Epoch 57/200\n",
      "4/4 [==============================] - 0s 1ms/step - loss: 0.3151\n",
      "Epoch 58/200\n",
      "4/4 [==============================] - 0s 2ms/step - loss: 0.3026\n",
      "Epoch 59/200\n",
      "4/4 [==============================] - 0s 2ms/step - loss: 0.2901\n",
      "Epoch 60/200\n",
      "4/4 [==============================] - 0s 1ms/step - loss: 0.2808\n",
      "Epoch 61/200\n",
      "4/4 [==============================] - 0s 1ms/step - loss: 0.2728\n",
      "Epoch 62/200\n",
      "4/4 [==============================] - 0s 2ms/step - loss: 0.2630\n",
      "Epoch 63/200\n",
      "4/4 [==============================] - 0s 1ms/step - loss: 0.2499\n",
      "Epoch 64/200\n",
      "4/4 [==============================] - 0s 1ms/step - loss: 0.2378\n",
      "Epoch 65/200\n",
      "4/4 [==============================] - 0s 1ms/step - loss: 0.2275\n",
      "Epoch 66/200\n",
      "4/4 [==============================] - 0s 2ms/step - loss: 0.2191\n",
      "Epoch 67/200\n",
      "4/4 [==============================] - 0s 2ms/step - loss: 0.2092\n",
      "Epoch 68/200\n",
      "4/4 [==============================] - 0s 1ms/step - loss: 0.2001\n",
      "Epoch 69/200\n",
      "4/4 [==============================] - 0s 2ms/step - loss: 0.1921\n",
      "Epoch 70/200\n",
      "4/4 [==============================] - 0s 1000us/step - loss: 0.1869\n",
      "Epoch 71/200\n",
      "4/4 [==============================] - 0s 2ms/step - loss: 0.1822\n",
      "Epoch 72/200\n",
      "4/4 [==============================] - 0s 3ms/step - loss: 0.1756\n",
      "Epoch 73/200\n",
      "4/4 [==============================] - 0s 3ms/step - loss: 0.1674\n",
      "Epoch 74/200\n",
      "4/4 [==============================] - 0s 2ms/step - loss: 0.1594\n",
      "Epoch 75/200\n",
      "4/4 [==============================] - 0s 2ms/step - loss: 0.1532\n",
      "Epoch 76/200\n",
      "4/4 [==============================] - 0s 2ms/step - loss: 0.1477\n",
      "Epoch 77/200\n",
      "4/4 [==============================] - 0s 2ms/step - loss: 0.1431\n",
      "Epoch 78/200\n",
      "4/4 [==============================] - 0s 2ms/step - loss: 0.1386\n",
      "Epoch 79/200\n",
      "4/4 [==============================] - 0s 1ms/step - loss: 0.1346\n",
      "Epoch 80/200\n",
      "4/4 [==============================] - 0s 1ms/step - loss: 0.1304\n",
      "Epoch 81/200\n",
      "4/4 [==============================] - 0s 2ms/step - loss: 0.1265\n",
      "Epoch 82/200\n",
      "4/4 [==============================] - 0s 1ms/step - loss: 0.1230\n",
      "Epoch 83/200\n",
      "4/4 [==============================] - 0s 2ms/step - loss: 0.1193\n",
      "Epoch 84/200\n",
      "4/4 [==============================] - 0s 2ms/step - loss: 0.1157\n",
      "Epoch 85/200\n",
      "4/4 [==============================] - 0s 2ms/step - loss: 0.1125\n",
      "Epoch 86/200\n",
      "4/4 [==============================] - 0s 3ms/step - loss: 0.1095\n",
      "Epoch 87/200\n",
      "4/4 [==============================] - 0s 2ms/step - loss: 0.1062\n",
      "Epoch 88/200\n",
      "4/4 [==============================] - 0s 2ms/step - loss: 0.1036\n",
      "Epoch 89/200\n",
      "4/4 [==============================] - 0s 1ms/step - loss: 0.1009\n",
      "Epoch 90/200\n",
      "4/4 [==============================] - 0s 2ms/step - loss: 0.0983\n",
      "Epoch 91/200\n",
      "4/4 [==============================] - 0s 2ms/step - loss: 0.0959\n",
      "Epoch 92/200\n",
      "4/4 [==============================] - 0s 2ms/step - loss: 0.0937\n",
      "Epoch 93/200\n",
      "4/4 [==============================] - 0s 2ms/step - loss: 0.0914\n",
      "Epoch 94/200\n",
      "4/4 [==============================] - 0s 1ms/step - loss: 0.0894\n",
      "Epoch 95/200\n",
      "4/4 [==============================] - 0s 2ms/step - loss: 0.0874\n",
      "Epoch 96/200\n",
      "4/4 [==============================] - 0s 1ms/step - loss: 0.0857\n",
      "Epoch 97/200\n",
      "4/4 [==============================] - 0s 2ms/step - loss: 0.0838\n",
      "Epoch 98/200\n",
      "4/4 [==============================] - 0s 2ms/step - loss: 0.0820\n",
      "Epoch 99/200\n",
      "4/4 [==============================] - 0s 2ms/step - loss: 0.0802\n",
      "Epoch 100/200\n",
      "4/4 [==============================] - 0s 2ms/step - loss: 0.0785\n",
      "Epoch 101/200\n",
      "4/4 [==============================] - 0s 2ms/step - loss: 0.0769\n",
      "Epoch 102/200\n",
      "4/4 [==============================] - 0s 3ms/step - loss: 0.0752\n",
      "Epoch 103/200\n",
      "4/4 [==============================] - 0s 2ms/step - loss: 0.0739\n",
      "Epoch 104/200\n",
      "4/4 [==============================] - 0s 2ms/step - loss: 0.0724\n",
      "Epoch 105/200\n",
      "4/4 [==============================] - 0s 2ms/step - loss: 0.0708\n",
      "Epoch 106/200\n",
      "4/4 [==============================] - 0s 2ms/step - loss: 0.0694\n",
      "Epoch 107/200\n",
      "4/4 [==============================] - 0s 1ms/step - loss: 0.0682\n",
      "Epoch 108/200\n",
      "4/4 [==============================] - 0s 2ms/step - loss: 0.0669\n",
      "Epoch 109/200\n",
      "4/4 [==============================] - 0s 1ms/step - loss: 0.0656\n",
      "Epoch 110/200\n",
      "4/4 [==============================] - 0s 2ms/step - loss: 0.0642\n",
      "Epoch 111/200\n",
      "4/4 [==============================] - 0s 2ms/step - loss: 0.0630\n",
      "Epoch 112/200\n",
      "4/4 [==============================] - 0s 2ms/step - loss: 0.0617\n",
      "Epoch 113/200\n",
      "4/4 [==============================] - 0s 2ms/step - loss: 0.0607\n",
      "Epoch 114/200\n",
      "4/4 [==============================] - 0s 2ms/step - loss: 0.0596\n",
      "Epoch 115/200\n",
      "4/4 [==============================] - 0s 2ms/step - loss: 0.0587\n",
      "Epoch 116/200\n",
      "4/4 [==============================] - 0s 1000us/step - loss: 0.0575\n",
      "Epoch 117/200\n",
      "4/4 [==============================] - 0s 2ms/step - loss: 0.0565\n",
      "Epoch 118/200\n",
      "4/4 [==============================] - 0s 1ms/step - loss: 0.0556\n",
      "Epoch 119/200\n",
      "4/4 [==============================] - 0s 2ms/step - loss: 0.0546\n",
      "Epoch 120/200\n",
      "4/4 [==============================] - 0s 1ms/step - loss: 0.0537\n",
      "Epoch 121/200\n",
      "4/4 [==============================] - 0s 2ms/step - loss: 0.0530\n",
      "Epoch 122/200\n",
      "4/4 [==============================] - 0s 1ms/step - loss: 0.0521\n",
      "Epoch 123/200\n",
      "4/4 [==============================] - 0s 2ms/step - loss: 0.0514\n",
      "Epoch 124/200\n",
      "4/4 [==============================] - 0s 2ms/step - loss: 0.0506\n",
      "Epoch 125/200\n",
      "4/4 [==============================] - 0s 2ms/step - loss: 0.0498\n",
      "Epoch 126/200\n",
      "4/4 [==============================] - 0s 1ms/step - loss: 0.0491\n",
      "Epoch 127/200\n",
      "4/4 [==============================] - 0s 2ms/step - loss: 0.0485\n",
      "Epoch 128/200\n",
      "4/4 [==============================] - 0s 3ms/step - loss: 0.0477\n",
      "Epoch 129/200\n",
      "4/4 [==============================] - 0s 2ms/step - loss: 0.0471\n",
      "Epoch 130/200\n",
      "4/4 [==============================] - 0s 2ms/step - loss: 0.0464\n",
      "Epoch 131/200\n",
      "4/4 [==============================] - 0s 2ms/step - loss: 0.0458\n",
      "Epoch 132/200\n",
      "4/4 [==============================] - 0s 2ms/step - loss: 0.0453\n",
      "Epoch 133/200\n",
      "4/4 [==============================] - 0s 1ms/step - loss: 0.0448\n",
      "Epoch 134/200\n",
      "4/4 [==============================] - 0s 2ms/step - loss: 0.0438\n",
      "Epoch 135/200\n",
      "4/4 [==============================] - 0s 999us/step - loss: 0.0434\n",
      "Epoch 136/200\n",
      "4/4 [==============================] - 0s 2ms/step - loss: 0.0428\n",
      "Epoch 137/200\n",
      "4/4 [==============================] - 0s 1ms/step - loss: 0.0422\n",
      "Epoch 138/200\n",
      "4/4 [==============================] - 0s 2ms/step - loss: 0.0416\n",
      "Epoch 139/200\n",
      "4/4 [==============================] - 0s 1ms/step - loss: 0.0410\n",
      "Epoch 140/200\n",
      "4/4 [==============================] - 0s 2ms/step - loss: 0.0404\n",
      "Epoch 141/200\n",
      "4/4 [==============================] - 0s 1ms/step - loss: 0.0398\n",
      "Epoch 142/200\n",
      "4/4 [==============================] - 0s 2ms/step - loss: 0.0393\n",
      "Epoch 143/200\n",
      "4/4 [==============================] - 0s 1ms/step - loss: 0.0388\n",
      "Epoch 144/200\n",
      "4/4 [==============================] - 0s 2ms/step - loss: 0.0383\n",
      "Epoch 145/200\n",
      "4/4 [==============================] - 0s 1ms/step - loss: 0.0378\n",
      "Epoch 146/200\n",
      "4/4 [==============================] - 0s 2ms/step - loss: 0.0373\n",
      "Epoch 147/200\n",
      "4/4 [==============================] - 0s 1ms/step - loss: 0.0368\n",
      "Epoch 148/200\n",
      "4/4 [==============================] - 0s 2ms/step - loss: 0.0364\n",
      "Epoch 149/200\n",
      "4/4 [==============================] - 0s 1ms/step - loss: 0.0360\n",
      "Epoch 150/200\n",
      "4/4 [==============================] - 0s 2ms/step - loss: 0.0355\n",
      "Epoch 151/200\n",
      "4/4 [==============================] - 0s 2ms/step - loss: 0.0351\n",
      "Epoch 152/200\n",
      "4/4 [==============================] - 0s 1ms/step - loss: 0.0347\n",
      "Epoch 153/200\n",
      "4/4 [==============================] - 0s 2ms/step - loss: 0.0343\n",
      "Epoch 154/200\n",
      "4/4 [==============================] - 0s 1ms/step - loss: 0.0339\n",
      "Epoch 155/200\n",
      "4/4 [==============================] - 0s 2ms/step - loss: 0.0335\n",
      "Epoch 156/200\n",
      "4/4 [==============================] - 0s 1ms/step - loss: 0.0331\n",
      "Epoch 157/200\n",
      "4/4 [==============================] - 0s 2ms/step - loss: 0.0327\n",
      "Epoch 158/200\n",
      "4/4 [==============================] - 0s 3ms/step - loss: 0.0324\n",
      "Epoch 159/200\n",
      "4/4 [==============================] - 0s 2ms/step - loss: 0.0320\n",
      "Epoch 160/200\n",
      "4/4 [==============================] - 0s 1ms/step - loss: 0.0316\n",
      "Epoch 161/200\n",
      "4/4 [==============================] - 0s 2ms/step - loss: 0.0312\n",
      "Epoch 162/200\n",
      "4/4 [==============================] - 0s 1ms/step - loss: 0.0309\n",
      "Epoch 163/200\n",
      "4/4 [==============================] - 0s 2ms/step - loss: 0.0306\n",
      "Epoch 164/200\n",
      "4/4 [==============================] - 0s 1ms/step - loss: 0.0302\n",
      "Epoch 165/200\n",
      "4/4 [==============================] - 0s 2ms/step - loss: 0.0298\n",
      "Epoch 166/200\n",
      "4/4 [==============================] - 0s 2ms/step - loss: 0.0295\n",
      "Epoch 167/200\n",
      "4/4 [==============================] - 0s 2ms/step - loss: 0.0292\n",
      "Epoch 168/200\n",
      "4/4 [==============================] - 0s 2ms/step - loss: 0.0287\n",
      "Epoch 169/200\n",
      "4/4 [==============================] - 0s 1ms/step - loss: 0.0284\n",
      "Epoch 170/200\n",
      "4/4 [==============================] - 0s 2ms/step - loss: 0.0280\n",
      "Epoch 171/200\n",
      "4/4 [==============================] - 0s 1ms/step - loss: 0.0277\n",
      "Epoch 172/200\n",
      "4/4 [==============================] - 0s 2ms/step - loss: 0.0275\n",
      "Epoch 173/200\n",
      "4/4 [==============================] - 0s 2ms/step - loss: 0.0272\n",
      "Epoch 174/200\n",
      "4/4 [==============================] - 0s 2ms/step - loss: 0.0269\n",
      "Epoch 175/200\n",
      "4/4 [==============================] - 0s 1ms/step - loss: 0.0266\n",
      "Epoch 176/200\n",
      "4/4 [==============================] - 0s 2ms/step - loss: 0.0263\n",
      "Epoch 177/200\n",
      "4/4 [==============================] - 0s 1ms/step - loss: 0.0260\n",
      "Epoch 178/200\n",
      "4/4 [==============================] - 0s 1ms/step - loss: 0.0257\n",
      "Epoch 179/200\n",
      "4/4 [==============================] - 0s 1ms/step - loss: 0.0255\n",
      "Epoch 180/200\n",
      "4/4 [==============================] - 0s 1ms/step - loss: 0.0252\n",
      "Epoch 181/200\n",
      "4/4 [==============================] - 0s 3ms/step - loss: 0.0249\n",
      "Epoch 182/200\n",
      "4/4 [==============================] - 0s 3ms/step - loss: 0.0247\n",
      "Epoch 183/200\n",
      "4/4 [==============================] - 0s 2ms/step - loss: 0.0244\n",
      "Epoch 184/200\n",
      "4/4 [==============================] - 0s 2ms/step - loss: 0.0242\n",
      "Epoch 185/200\n",
      "4/4 [==============================] - 0s 2ms/step - loss: 0.0239\n",
      "Epoch 186/200\n",
      "4/4 [==============================] - 0s 2ms/step - loss: 0.0237\n",
      "Epoch 187/200\n",
      "4/4 [==============================] - 0s 1ms/step - loss: 0.0235\n",
      "Epoch 188/200\n",
      "4/4 [==============================] - 0s 2ms/step - loss: 0.0232\n",
      "Epoch 189/200\n",
      "4/4 [==============================] - 0s 1ms/step - loss: 0.0230\n",
      "Epoch 190/200\n",
      "4/4 [==============================] - 0s 1ms/step - loss: 0.0228\n",
      "Epoch 191/200\n",
      "4/4 [==============================] - 0s 2ms/step - loss: 0.0226\n",
      "Epoch 192/200\n",
      "4/4 [==============================] - 0s 3ms/step - loss: 0.0224\n",
      "Epoch 193/200\n",
      "4/4 [==============================] - 0s 2ms/step - loss: 0.0222\n",
      "Epoch 194/200\n",
      "4/4 [==============================] - 0s 2ms/step - loss: 0.0220\n",
      "Epoch 195/200\n",
      "4/4 [==============================] - 0s 1ms/step - loss: 0.0218\n",
      "Epoch 196/200\n",
      "4/4 [==============================] - 0s 1ms/step - loss: 0.0216\n",
      "Epoch 197/200\n",
      "4/4 [==============================] - 0s 2ms/step - loss: 0.0214\n",
      "Epoch 198/200\n",
      "4/4 [==============================] - 0s 2ms/step - loss: 0.0212\n",
      "Epoch 199/200\n",
      "4/4 [==============================] - 0s 2ms/step - loss: 0.0211\n",
      "Epoch 200/200\n",
      "4/4 [==============================] - 0s 2ms/step - loss: 0.0209\n"
     ]
    },
    {
     "data": {
      "text/plain": [
       "<keras.callbacks.History at 0x2210babd1f0>"
      ]
     },
     "execution_count": 6,
     "metadata": {},
     "output_type": "execute_result"
    }
   ],
   "source": [
    "model.compile(\n",
    "    loss=tf.keras.losses.SparseCategoricalCrossentropy(from_logits=True),\n",
    "    optimizer=tf.keras.optimizers.Adam(0.01),\n",
    ")\n",
    "\n",
    "model.fit(\n",
    "    X_train,y_train,\n",
    "    epochs=200\n",
    ")"
   ]
  },
  {
   "cell_type": "markdown",
   "metadata": {},
   "source": [
    "With the model trained, we can see how the model has classified the training data."
   ]
  },
  {
   "cell_type": "code",
   "execution_count": 7,
   "metadata": {},
   "outputs": [
    {
     "data": {
      "application/vnd.jupyter.widget-view+json": {
       "model_id": "69dbcb3a6d684ccbbd954c59ce6a2a6c",
       "version_major": 2,
       "version_minor": 0
      },
      "text/plain": [
       "Canvas(toolbar=Toolbar(toolitems=[('Home', 'Reset original view', 'home', 'home'), ('Back', 'Back to previous …"
      ]
     },
     "metadata": {},
     "output_type": "display_data"
    },
    {
     "name": "stdout",
     "output_type": "stream",
     "text": [
      "184/184 [==============================] - 0s 684us/step\n"
     ]
    },
    {
     "ename": "IndexError",
     "evalue": "list index out of range",
     "output_type": "error",
     "traceback": [
      "\u001b[1;31m---------------------------------------------------------------------------\u001b[0m",
      "\u001b[1;31mIndexError\u001b[0m                                Traceback (most recent call last)",
      "File \u001b[1;32mc:\\Python\\Winpython64-3.8.2.0cod\\python-3.8.2.amd64\\lib\\site-packages\\ipympl\\backend_nbagg.py:203\u001b[0m, in \u001b[0;36mCanvas._handle_message\u001b[1;34m(self, object, content, buffers)\u001b[0m\n\u001b[0;32m    201\u001b[0m     \u001b[39mself\u001b[39m\u001b[39m.\u001b[39mmanager\u001b[39m.\u001b[39mresize(w, h)\n\u001b[0;32m    202\u001b[0m \u001b[39melse\u001b[39;00m:\n\u001b[1;32m--> 203\u001b[0m     \u001b[39mself\u001b[39;49m\u001b[39m.\u001b[39;49mmanager\u001b[39m.\u001b[39;49mhandle_json(content)\n",
      "File \u001b[1;32mc:\\Python\\Winpython64-3.8.2.0cod\\python-3.8.2.amd64\\lib\\site-packages\\matplotlib\\backends\\backend_webagg_core.py:440\u001b[0m, in \u001b[0;36mFigureManagerWebAgg.handle_json\u001b[1;34m(self, content)\u001b[0m\n\u001b[0;32m    439\u001b[0m \u001b[39mdef\u001b[39;00m \u001b[39mhandle_json\u001b[39m(\u001b[39mself\u001b[39m, content):\n\u001b[1;32m--> 440\u001b[0m     \u001b[39mself\u001b[39;49m\u001b[39m.\u001b[39;49mcanvas\u001b[39m.\u001b[39;49mhandle_event(content)\n",
      "File \u001b[1;32mc:\\Python\\Winpython64-3.8.2.0cod\\python-3.8.2.amd64\\lib\\site-packages\\matplotlib\\backends\\backend_webagg_core.py:240\u001b[0m, in \u001b[0;36mFigureCanvasWebAggCore.handle_event\u001b[1;34m(self, event)\u001b[0m\n\u001b[0;32m    237\u001b[0m e_type \u001b[39m=\u001b[39m event[\u001b[39m'\u001b[39m\u001b[39mtype\u001b[39m\u001b[39m'\u001b[39m]\n\u001b[0;32m    238\u001b[0m handler \u001b[39m=\u001b[39m \u001b[39mgetattr\u001b[39m(\u001b[39mself\u001b[39m, \u001b[39m'\u001b[39m\u001b[39mhandle_\u001b[39m\u001b[39m{0}\u001b[39;00m\u001b[39m'\u001b[39m\u001b[39m.\u001b[39mformat(e_type),\n\u001b[0;32m    239\u001b[0m                   \u001b[39mself\u001b[39m\u001b[39m.\u001b[39mhandle_unknown_event)\n\u001b[1;32m--> 240\u001b[0m \u001b[39mreturn\u001b[39;00m handler(event)\n",
      "File \u001b[1;32mc:\\Python\\Winpython64-3.8.2.0cod\\python-3.8.2.amd64\\lib\\site-packages\\matplotlib\\backends\\backend_webagg_core.py:256\u001b[0m, in \u001b[0;36mFigureCanvasWebAggCore.handle_draw\u001b[1;34m(self, event)\u001b[0m\n\u001b[0;32m    255\u001b[0m \u001b[39mdef\u001b[39;00m \u001b[39mhandle_draw\u001b[39m(\u001b[39mself\u001b[39m, event):\n\u001b[1;32m--> 256\u001b[0m     \u001b[39mself\u001b[39;49m\u001b[39m.\u001b[39;49mdraw()\n",
      "File \u001b[1;32mc:\\Python\\Winpython64-3.8.2.0cod\\python-3.8.2.amd64\\lib\\site-packages\\matplotlib\\backends\\backend_webagg_core.py:151\u001b[0m, in \u001b[0;36mFigureCanvasWebAggCore.draw\u001b[1;34m(self)\u001b[0m\n\u001b[0;32m    149\u001b[0m \u001b[39mself\u001b[39m\u001b[39m.\u001b[39m_png_is_old \u001b[39m=\u001b[39m \u001b[39mTrue\u001b[39;00m\n\u001b[0;32m    150\u001b[0m \u001b[39mtry\u001b[39;00m:\n\u001b[1;32m--> 151\u001b[0m     \u001b[39msuper\u001b[39;49m()\u001b[39m.\u001b[39;49mdraw()\n\u001b[0;32m    152\u001b[0m \u001b[39mfinally\u001b[39;00m:\n\u001b[0;32m    153\u001b[0m     \u001b[39mself\u001b[39m\u001b[39m.\u001b[39mmanager\u001b[39m.\u001b[39mrefresh_all()\n",
      "File \u001b[1;32mc:\\Python\\Winpython64-3.8.2.0cod\\python-3.8.2.amd64\\lib\\site-packages\\matplotlib\\backends\\backend_agg.py:390\u001b[0m, in \u001b[0;36mFigureCanvasAgg.draw\u001b[1;34m(self)\u001b[0m\n\u001b[0;32m    388\u001b[0m \u001b[39mself\u001b[39m\u001b[39m.\u001b[39mrenderer \u001b[39m=\u001b[39m \u001b[39mself\u001b[39m\u001b[39m.\u001b[39mget_renderer(cleared\u001b[39m=\u001b[39m\u001b[39mTrue\u001b[39;00m)\n\u001b[0;32m    389\u001b[0m \u001b[39m# Acquire a lock on the shared font cache.\u001b[39;00m\n\u001b[1;32m--> 390\u001b[0m \u001b[39mwith\u001b[39;00m RendererAgg\u001b[39m.\u001b[39mlock, \\\n\u001b[0;32m    391\u001b[0m      (\u001b[39mself\u001b[39m\u001b[39m.\u001b[39mtoolbar\u001b[39m.\u001b[39m_wait_cursor_for_draw_cm() \u001b[39mif\u001b[39;00m \u001b[39mself\u001b[39m\u001b[39m.\u001b[39mtoolbar\n\u001b[0;32m    392\u001b[0m       \u001b[39melse\u001b[39;00m nullcontext()):\n\u001b[0;32m    393\u001b[0m     \u001b[39mself\u001b[39m\u001b[39m.\u001b[39mfigure\u001b[39m.\u001b[39mdraw(\u001b[39mself\u001b[39m\u001b[39m.\u001b[39mrenderer)\n\u001b[0;32m    394\u001b[0m     \u001b[39m# A GUI class may be need to update a window using this draw, so\u001b[39;00m\n\u001b[0;32m    395\u001b[0m     \u001b[39m# don't forget to call the superclass.\u001b[39;00m\n",
      "File \u001b[1;32mc:\\Python\\Winpython64-3.8.2.0cod\\python-3.8.2.amd64\\lib\\contextlib.py:113\u001b[0m, in \u001b[0;36m_GeneratorContextManager.__enter__\u001b[1;34m(self)\u001b[0m\n\u001b[0;32m    111\u001b[0m \u001b[39mdel\u001b[39;00m \u001b[39mself\u001b[39m\u001b[39m.\u001b[39margs, \u001b[39mself\u001b[39m\u001b[39m.\u001b[39mkwds, \u001b[39mself\u001b[39m\u001b[39m.\u001b[39mfunc\n\u001b[0;32m    112\u001b[0m \u001b[39mtry\u001b[39;00m:\n\u001b[1;32m--> 113\u001b[0m     \u001b[39mreturn\u001b[39;00m \u001b[39mnext\u001b[39;49m(\u001b[39mself\u001b[39;49m\u001b[39m.\u001b[39;49mgen)\n\u001b[0;32m    114\u001b[0m \u001b[39mexcept\u001b[39;00m \u001b[39mStopIteration\u001b[39;00m:\n\u001b[0;32m    115\u001b[0m     \u001b[39mraise\u001b[39;00m \u001b[39mRuntimeError\u001b[39;00m(\u001b[39m\"\u001b[39m\u001b[39mgenerator didn\u001b[39m\u001b[39m'\u001b[39m\u001b[39mt yield\u001b[39m\u001b[39m\"\u001b[39m) \u001b[39mfrom\u001b[39;00m \u001b[39mNone\u001b[39m\n",
      "File \u001b[1;32mc:\\Python\\Winpython64-3.8.2.0cod\\python-3.8.2.amd64\\lib\\site-packages\\matplotlib\\backend_bases.py:2785\u001b[0m, in \u001b[0;36mNavigationToolbar2._wait_cursor_for_draw_cm\u001b[1;34m(self)\u001b[0m\n\u001b[0;32m   2783\u001b[0m \u001b[39mif\u001b[39;00m \u001b[39mself\u001b[39m\u001b[39m.\u001b[39m_draw_time \u001b[39m-\u001b[39m last_draw_time \u001b[39m>\u001b[39m \u001b[39m1\u001b[39m:\n\u001b[0;32m   2784\u001b[0m     \u001b[39mtry\u001b[39;00m:\n\u001b[1;32m-> 2785\u001b[0m         \u001b[39mself\u001b[39;49m\u001b[39m.\u001b[39;49mset_cursor(cursors\u001b[39m.\u001b[39;49mWAIT)\n\u001b[0;32m   2786\u001b[0m         \u001b[39myield\u001b[39;00m\n\u001b[0;32m   2787\u001b[0m     \u001b[39mfinally\u001b[39;00m:\n",
      "File \u001b[1;32mc:\\Python\\Winpython64-3.8.2.0cod\\python-3.8.2.amd64\\lib\\site-packages\\matplotlib\\backends\\backend_webagg_core.py:382\u001b[0m, in \u001b[0;36mNavigationToolbar2WebAgg.set_cursor\u001b[1;34m(self, cursor)\u001b[0m\n\u001b[0;32m    380\u001b[0m \u001b[39mdef\u001b[39;00m \u001b[39mset_cursor\u001b[39m(\u001b[39mself\u001b[39m, cursor):\n\u001b[0;32m    381\u001b[0m     \u001b[39mif\u001b[39;00m cursor \u001b[39m!=\u001b[39m \u001b[39mself\u001b[39m\u001b[39m.\u001b[39mcursor:\n\u001b[1;32m--> 382\u001b[0m         \u001b[39mself\u001b[39;49m\u001b[39m.\u001b[39;49mcanvas\u001b[39m.\u001b[39;49msend_event(\u001b[39m\"\u001b[39;49m\u001b[39mcursor\u001b[39;49m\u001b[39m\"\u001b[39;49m, cursor\u001b[39m=\u001b[39;49mcursor)\n\u001b[0;32m    383\u001b[0m     \u001b[39mself\u001b[39m\u001b[39m.\u001b[39mcursor \u001b[39m=\u001b[39m cursor\n",
      "File \u001b[1;32mc:\\Python\\Winpython64-3.8.2.0cod\\python-3.8.2.amd64\\lib\\site-packages\\matplotlib\\backends\\backend_webagg_core.py:347\u001b[0m, in \u001b[0;36mFigureCanvasWebAggCore.send_event\u001b[1;34m(self, event_type, **kwargs)\u001b[0m\n\u001b[0;32m    345\u001b[0m \u001b[39mdef\u001b[39;00m \u001b[39msend_event\u001b[39m(\u001b[39mself\u001b[39m, event_type, \u001b[39m*\u001b[39m\u001b[39m*\u001b[39mkwargs):\n\u001b[0;32m    346\u001b[0m     \u001b[39mif\u001b[39;00m \u001b[39mself\u001b[39m\u001b[39m.\u001b[39mmanager:\n\u001b[1;32m--> 347\u001b[0m         \u001b[39mself\u001b[39;49m\u001b[39m.\u001b[39;49mmanager\u001b[39m.\u001b[39;49m_send_event(event_type, \u001b[39m*\u001b[39;49m\u001b[39m*\u001b[39;49mkwargs)\n",
      "File \u001b[1;32mc:\\Python\\Winpython64-3.8.2.0cod\\python-3.8.2.amd64\\lib\\site-packages\\matplotlib\\backends\\backend_webagg_core.py:490\u001b[0m, in \u001b[0;36mFigureManagerWebAgg._send_event\u001b[1;34m(self, event_type, **kwargs)\u001b[0m\n\u001b[0;32m    488\u001b[0m payload \u001b[39m=\u001b[39m {\u001b[39m'\u001b[39m\u001b[39mtype\u001b[39m\u001b[39m'\u001b[39m: event_type, \u001b[39m*\u001b[39m\u001b[39m*\u001b[39mkwargs}\n\u001b[0;32m    489\u001b[0m \u001b[39mfor\u001b[39;00m s \u001b[39min\u001b[39;00m \u001b[39mself\u001b[39m\u001b[39m.\u001b[39mweb_sockets:\n\u001b[1;32m--> 490\u001b[0m     s\u001b[39m.\u001b[39;49msend_json(payload)\n",
      "File \u001b[1;32mc:\\Python\\Winpython64-3.8.2.0cod\\python-3.8.2.amd64\\lib\\site-packages\\ipympl\\backend_nbagg.py:209\u001b[0m, in \u001b[0;36mCanvas.send_json\u001b[1;34m(self, content)\u001b[0m\n\u001b[0;32m    207\u001b[0m \u001b[39mif\u001b[39;00m content[\u001b[39m'\u001b[39m\u001b[39mtype\u001b[39m\u001b[39m'\u001b[39m] \u001b[39m==\u001b[39m \u001b[39m'\u001b[39m\u001b[39mcursor\u001b[39m\u001b[39m'\u001b[39m:\n\u001b[0;32m    208\u001b[0m     cursors \u001b[39m=\u001b[39m [\u001b[39m'\u001b[39m\u001b[39mpointer\u001b[39m\u001b[39m'\u001b[39m, \u001b[39m'\u001b[39m\u001b[39mdefault\u001b[39m\u001b[39m'\u001b[39m, \u001b[39m'\u001b[39m\u001b[39mcrosshair\u001b[39m\u001b[39m'\u001b[39m, \u001b[39m'\u001b[39m\u001b[39mmove\u001b[39m\u001b[39m'\u001b[39m]\n\u001b[1;32m--> 209\u001b[0m     \u001b[39mself\u001b[39m\u001b[39m.\u001b[39m_cursor \u001b[39m=\u001b[39m cursors[content[\u001b[39m'\u001b[39;49m\u001b[39mcursor\u001b[39;49m\u001b[39m'\u001b[39;49m]]\n\u001b[0;32m    211\u001b[0m \u001b[39melif\u001b[39;00m content[\u001b[39m'\u001b[39m\u001b[39mtype\u001b[39m\u001b[39m'\u001b[39m] \u001b[39m==\u001b[39m \u001b[39m'\u001b[39m\u001b[39mmessage\u001b[39m\u001b[39m'\u001b[39m:\n\u001b[0;32m    212\u001b[0m     \u001b[39mself\u001b[39m\u001b[39m.\u001b[39m_message \u001b[39m=\u001b[39m content[\u001b[39m'\u001b[39m\u001b[39mmessage\u001b[39m\u001b[39m'\u001b[39m]\n",
      "\u001b[1;31mIndexError\u001b[0m: list index out of range"
     ]
    },
    {
     "ename": "IndexError",
     "evalue": "list index out of range",
     "output_type": "error",
     "traceback": [
      "\u001b[1;31m---------------------------------------------------------------------------\u001b[0m",
      "\u001b[1;31mIndexError\u001b[0m                                Traceback (most recent call last)",
      "File \u001b[1;32mc:\\Python\\Winpython64-3.8.2.0cod\\python-3.8.2.amd64\\lib\\site-packages\\ipympl\\backend_nbagg.py:203\u001b[0m, in \u001b[0;36mCanvas._handle_message\u001b[1;34m(self, object, content, buffers)\u001b[0m\n\u001b[0;32m    201\u001b[0m     \u001b[39mself\u001b[39m\u001b[39m.\u001b[39mmanager\u001b[39m.\u001b[39mresize(w, h)\n\u001b[0;32m    202\u001b[0m \u001b[39melse\u001b[39;00m:\n\u001b[1;32m--> 203\u001b[0m     \u001b[39mself\u001b[39;49m\u001b[39m.\u001b[39;49mmanager\u001b[39m.\u001b[39;49mhandle_json(content)\n",
      "File \u001b[1;32mc:\\Python\\Winpython64-3.8.2.0cod\\python-3.8.2.amd64\\lib\\site-packages\\matplotlib\\backends\\backend_webagg_core.py:440\u001b[0m, in \u001b[0;36mFigureManagerWebAgg.handle_json\u001b[1;34m(self, content)\u001b[0m\n\u001b[0;32m    439\u001b[0m \u001b[39mdef\u001b[39;00m \u001b[39mhandle_json\u001b[39m(\u001b[39mself\u001b[39m, content):\n\u001b[1;32m--> 440\u001b[0m     \u001b[39mself\u001b[39;49m\u001b[39m.\u001b[39;49mcanvas\u001b[39m.\u001b[39;49mhandle_event(content)\n",
      "File \u001b[1;32mc:\\Python\\Winpython64-3.8.2.0cod\\python-3.8.2.amd64\\lib\\site-packages\\matplotlib\\backends\\backend_webagg_core.py:240\u001b[0m, in \u001b[0;36mFigureCanvasWebAggCore.handle_event\u001b[1;34m(self, event)\u001b[0m\n\u001b[0;32m    237\u001b[0m e_type \u001b[39m=\u001b[39m event[\u001b[39m'\u001b[39m\u001b[39mtype\u001b[39m\u001b[39m'\u001b[39m]\n\u001b[0;32m    238\u001b[0m handler \u001b[39m=\u001b[39m \u001b[39mgetattr\u001b[39m(\u001b[39mself\u001b[39m, \u001b[39m'\u001b[39m\u001b[39mhandle_\u001b[39m\u001b[39m{0}\u001b[39;00m\u001b[39m'\u001b[39m\u001b[39m.\u001b[39mformat(e_type),\n\u001b[0;32m    239\u001b[0m                   \u001b[39mself\u001b[39m\u001b[39m.\u001b[39mhandle_unknown_event)\n\u001b[1;32m--> 240\u001b[0m \u001b[39mreturn\u001b[39;00m handler(event)\n",
      "File \u001b[1;32mc:\\Python\\Winpython64-3.8.2.0cod\\python-3.8.2.amd64\\lib\\site-packages\\matplotlib\\backends\\backend_webagg_core.py:256\u001b[0m, in \u001b[0;36mFigureCanvasWebAggCore.handle_draw\u001b[1;34m(self, event)\u001b[0m\n\u001b[0;32m    255\u001b[0m \u001b[39mdef\u001b[39;00m \u001b[39mhandle_draw\u001b[39m(\u001b[39mself\u001b[39m, event):\n\u001b[1;32m--> 256\u001b[0m     \u001b[39mself\u001b[39;49m\u001b[39m.\u001b[39;49mdraw()\n",
      "File \u001b[1;32mc:\\Python\\Winpython64-3.8.2.0cod\\python-3.8.2.amd64\\lib\\site-packages\\matplotlib\\backends\\backend_webagg_core.py:151\u001b[0m, in \u001b[0;36mFigureCanvasWebAggCore.draw\u001b[1;34m(self)\u001b[0m\n\u001b[0;32m    149\u001b[0m \u001b[39mself\u001b[39m\u001b[39m.\u001b[39m_png_is_old \u001b[39m=\u001b[39m \u001b[39mTrue\u001b[39;00m\n\u001b[0;32m    150\u001b[0m \u001b[39mtry\u001b[39;00m:\n\u001b[1;32m--> 151\u001b[0m     \u001b[39msuper\u001b[39;49m()\u001b[39m.\u001b[39;49mdraw()\n\u001b[0;32m    152\u001b[0m \u001b[39mfinally\u001b[39;00m:\n\u001b[0;32m    153\u001b[0m     \u001b[39mself\u001b[39m\u001b[39m.\u001b[39mmanager\u001b[39m.\u001b[39mrefresh_all()\n",
      "File \u001b[1;32mc:\\Python\\Winpython64-3.8.2.0cod\\python-3.8.2.amd64\\lib\\site-packages\\matplotlib\\backends\\backend_agg.py:390\u001b[0m, in \u001b[0;36mFigureCanvasAgg.draw\u001b[1;34m(self)\u001b[0m\n\u001b[0;32m    388\u001b[0m \u001b[39mself\u001b[39m\u001b[39m.\u001b[39mrenderer \u001b[39m=\u001b[39m \u001b[39mself\u001b[39m\u001b[39m.\u001b[39mget_renderer(cleared\u001b[39m=\u001b[39m\u001b[39mTrue\u001b[39;00m)\n\u001b[0;32m    389\u001b[0m \u001b[39m# Acquire a lock on the shared font cache.\u001b[39;00m\n\u001b[1;32m--> 390\u001b[0m \u001b[39mwith\u001b[39;00m RendererAgg\u001b[39m.\u001b[39mlock, \\\n\u001b[0;32m    391\u001b[0m      (\u001b[39mself\u001b[39m\u001b[39m.\u001b[39mtoolbar\u001b[39m.\u001b[39m_wait_cursor_for_draw_cm() \u001b[39mif\u001b[39;00m \u001b[39mself\u001b[39m\u001b[39m.\u001b[39mtoolbar\n\u001b[0;32m    392\u001b[0m       \u001b[39melse\u001b[39;00m nullcontext()):\n\u001b[0;32m    393\u001b[0m     \u001b[39mself\u001b[39m\u001b[39m.\u001b[39mfigure\u001b[39m.\u001b[39mdraw(\u001b[39mself\u001b[39m\u001b[39m.\u001b[39mrenderer)\n\u001b[0;32m    394\u001b[0m     \u001b[39m# A GUI class may be need to update a window using this draw, so\u001b[39;00m\n\u001b[0;32m    395\u001b[0m     \u001b[39m# don't forget to call the superclass.\u001b[39;00m\n",
      "File \u001b[1;32mc:\\Python\\Winpython64-3.8.2.0cod\\python-3.8.2.amd64\\lib\\contextlib.py:113\u001b[0m, in \u001b[0;36m_GeneratorContextManager.__enter__\u001b[1;34m(self)\u001b[0m\n\u001b[0;32m    111\u001b[0m \u001b[39mdel\u001b[39;00m \u001b[39mself\u001b[39m\u001b[39m.\u001b[39margs, \u001b[39mself\u001b[39m\u001b[39m.\u001b[39mkwds, \u001b[39mself\u001b[39m\u001b[39m.\u001b[39mfunc\n\u001b[0;32m    112\u001b[0m \u001b[39mtry\u001b[39;00m:\n\u001b[1;32m--> 113\u001b[0m     \u001b[39mreturn\u001b[39;00m \u001b[39mnext\u001b[39;49m(\u001b[39mself\u001b[39;49m\u001b[39m.\u001b[39;49mgen)\n\u001b[0;32m    114\u001b[0m \u001b[39mexcept\u001b[39;00m \u001b[39mStopIteration\u001b[39;00m:\n\u001b[0;32m    115\u001b[0m     \u001b[39mraise\u001b[39;00m \u001b[39mRuntimeError\u001b[39;00m(\u001b[39m\"\u001b[39m\u001b[39mgenerator didn\u001b[39m\u001b[39m'\u001b[39m\u001b[39mt yield\u001b[39m\u001b[39m\"\u001b[39m) \u001b[39mfrom\u001b[39;00m \u001b[39mNone\u001b[39m\n",
      "File \u001b[1;32mc:\\Python\\Winpython64-3.8.2.0cod\\python-3.8.2.amd64\\lib\\site-packages\\matplotlib\\backend_bases.py:2785\u001b[0m, in \u001b[0;36mNavigationToolbar2._wait_cursor_for_draw_cm\u001b[1;34m(self)\u001b[0m\n\u001b[0;32m   2783\u001b[0m \u001b[39mif\u001b[39;00m \u001b[39mself\u001b[39m\u001b[39m.\u001b[39m_draw_time \u001b[39m-\u001b[39m last_draw_time \u001b[39m>\u001b[39m \u001b[39m1\u001b[39m:\n\u001b[0;32m   2784\u001b[0m     \u001b[39mtry\u001b[39;00m:\n\u001b[1;32m-> 2785\u001b[0m         \u001b[39mself\u001b[39;49m\u001b[39m.\u001b[39;49mset_cursor(cursors\u001b[39m.\u001b[39;49mWAIT)\n\u001b[0;32m   2786\u001b[0m         \u001b[39myield\u001b[39;00m\n\u001b[0;32m   2787\u001b[0m     \u001b[39mfinally\u001b[39;00m:\n",
      "File \u001b[1;32mc:\\Python\\Winpython64-3.8.2.0cod\\python-3.8.2.amd64\\lib\\site-packages\\matplotlib\\backends\\backend_webagg_core.py:382\u001b[0m, in \u001b[0;36mNavigationToolbar2WebAgg.set_cursor\u001b[1;34m(self, cursor)\u001b[0m\n\u001b[0;32m    380\u001b[0m \u001b[39mdef\u001b[39;00m \u001b[39mset_cursor\u001b[39m(\u001b[39mself\u001b[39m, cursor):\n\u001b[0;32m    381\u001b[0m     \u001b[39mif\u001b[39;00m cursor \u001b[39m!=\u001b[39m \u001b[39mself\u001b[39m\u001b[39m.\u001b[39mcursor:\n\u001b[1;32m--> 382\u001b[0m         \u001b[39mself\u001b[39;49m\u001b[39m.\u001b[39;49mcanvas\u001b[39m.\u001b[39;49msend_event(\u001b[39m\"\u001b[39;49m\u001b[39mcursor\u001b[39;49m\u001b[39m\"\u001b[39;49m, cursor\u001b[39m=\u001b[39;49mcursor)\n\u001b[0;32m    383\u001b[0m     \u001b[39mself\u001b[39m\u001b[39m.\u001b[39mcursor \u001b[39m=\u001b[39m cursor\n",
      "File \u001b[1;32mc:\\Python\\Winpython64-3.8.2.0cod\\python-3.8.2.amd64\\lib\\site-packages\\matplotlib\\backends\\backend_webagg_core.py:347\u001b[0m, in \u001b[0;36mFigureCanvasWebAggCore.send_event\u001b[1;34m(self, event_type, **kwargs)\u001b[0m\n\u001b[0;32m    345\u001b[0m \u001b[39mdef\u001b[39;00m \u001b[39msend_event\u001b[39m(\u001b[39mself\u001b[39m, event_type, \u001b[39m*\u001b[39m\u001b[39m*\u001b[39mkwargs):\n\u001b[0;32m    346\u001b[0m     \u001b[39mif\u001b[39;00m \u001b[39mself\u001b[39m\u001b[39m.\u001b[39mmanager:\n\u001b[1;32m--> 347\u001b[0m         \u001b[39mself\u001b[39;49m\u001b[39m.\u001b[39;49mmanager\u001b[39m.\u001b[39;49m_send_event(event_type, \u001b[39m*\u001b[39;49m\u001b[39m*\u001b[39;49mkwargs)\n",
      "File \u001b[1;32mc:\\Python\\Winpython64-3.8.2.0cod\\python-3.8.2.amd64\\lib\\site-packages\\matplotlib\\backends\\backend_webagg_core.py:490\u001b[0m, in \u001b[0;36mFigureManagerWebAgg._send_event\u001b[1;34m(self, event_type, **kwargs)\u001b[0m\n\u001b[0;32m    488\u001b[0m payload \u001b[39m=\u001b[39m {\u001b[39m'\u001b[39m\u001b[39mtype\u001b[39m\u001b[39m'\u001b[39m: event_type, \u001b[39m*\u001b[39m\u001b[39m*\u001b[39mkwargs}\n\u001b[0;32m    489\u001b[0m \u001b[39mfor\u001b[39;00m s \u001b[39min\u001b[39;00m \u001b[39mself\u001b[39m\u001b[39m.\u001b[39mweb_sockets:\n\u001b[1;32m--> 490\u001b[0m     s\u001b[39m.\u001b[39;49msend_json(payload)\n",
      "File \u001b[1;32mc:\\Python\\Winpython64-3.8.2.0cod\\python-3.8.2.amd64\\lib\\site-packages\\ipympl\\backend_nbagg.py:209\u001b[0m, in \u001b[0;36mCanvas.send_json\u001b[1;34m(self, content)\u001b[0m\n\u001b[0;32m    207\u001b[0m \u001b[39mif\u001b[39;00m content[\u001b[39m'\u001b[39m\u001b[39mtype\u001b[39m\u001b[39m'\u001b[39m] \u001b[39m==\u001b[39m \u001b[39m'\u001b[39m\u001b[39mcursor\u001b[39m\u001b[39m'\u001b[39m:\n\u001b[0;32m    208\u001b[0m     cursors \u001b[39m=\u001b[39m [\u001b[39m'\u001b[39m\u001b[39mpointer\u001b[39m\u001b[39m'\u001b[39m, \u001b[39m'\u001b[39m\u001b[39mdefault\u001b[39m\u001b[39m'\u001b[39m, \u001b[39m'\u001b[39m\u001b[39mcrosshair\u001b[39m\u001b[39m'\u001b[39m, \u001b[39m'\u001b[39m\u001b[39mmove\u001b[39m\u001b[39m'\u001b[39m]\n\u001b[1;32m--> 209\u001b[0m     \u001b[39mself\u001b[39m\u001b[39m.\u001b[39m_cursor \u001b[39m=\u001b[39m cursors[content[\u001b[39m'\u001b[39;49m\u001b[39mcursor\u001b[39;49m\u001b[39m'\u001b[39;49m]]\n\u001b[0;32m    211\u001b[0m \u001b[39melif\u001b[39;00m content[\u001b[39m'\u001b[39m\u001b[39mtype\u001b[39m\u001b[39m'\u001b[39m] \u001b[39m==\u001b[39m \u001b[39m'\u001b[39m\u001b[39mmessage\u001b[39m\u001b[39m'\u001b[39m:\n\u001b[0;32m    212\u001b[0m     \u001b[39mself\u001b[39m\u001b[39m.\u001b[39m_message \u001b[39m=\u001b[39m content[\u001b[39m'\u001b[39m\u001b[39mmessage\u001b[39m\u001b[39m'\u001b[39m]\n",
      "\u001b[1;31mIndexError\u001b[0m: list index out of range"
     ]
    }
   ],
   "source": [
    "plt_cat_mc(X_train, y_train, model, classes)"
   ]
  },
  {
   "cell_type": "markdown",
   "metadata": {},
   "source": [
    "Above, the decision boundaries show how the model has partitioned the input space.  This very simple model has had no trouble classifying the training data. How did it accomplish this? Let's look at the network in more detail. \n",
    "\n",
    "Below, we will pull the trained weights from the model and use that to plot the function of each of the network units. Further down, there is a more detailed explanation of the results. You don't need to know these details to successfully use neural networks, but it may be helpful to gain more intuition about how the layers combine to solve a classification problem."
   ]
  },
  {
   "cell_type": "code",
   "execution_count": 8,
   "metadata": {},
   "outputs": [],
   "source": [
    "# gather the trained parameters from the first layer\n",
    "l1 = model.get_layer(\"L1\")\n",
    "W1,b1 = l1.get_weights()"
   ]
  },
  {
   "cell_type": "code",
   "execution_count": 9,
   "metadata": {},
   "outputs": [
    {
     "data": {
      "application/vnd.jupyter.widget-view+json": {
       "model_id": "678106470e8249278c4d58e352175032",
       "version_major": 2,
       "version_minor": 0
      },
      "text/plain": [
       "Canvas(toolbar=Toolbar(toolitems=[('Home', 'Reset original view', 'home', 'home'), ('Back', 'Back to previous …"
      ]
     },
     "metadata": {},
     "output_type": "display_data"
    },
    {
     "ename": "IndexError",
     "evalue": "list index out of range",
     "output_type": "error",
     "traceback": [
      "\u001b[1;31m---------------------------------------------------------------------------\u001b[0m",
      "\u001b[1;31mIndexError\u001b[0m                                Traceback (most recent call last)",
      "File \u001b[1;32mc:\\Python\\Winpython64-3.8.2.0cod\\python-3.8.2.amd64\\lib\\site-packages\\ipympl\\backend_nbagg.py:203\u001b[0m, in \u001b[0;36mCanvas._handle_message\u001b[1;34m(self, object, content, buffers)\u001b[0m\n\u001b[0;32m    201\u001b[0m     \u001b[39mself\u001b[39m\u001b[39m.\u001b[39mmanager\u001b[39m.\u001b[39mresize(w, h)\n\u001b[0;32m    202\u001b[0m \u001b[39melse\u001b[39;00m:\n\u001b[1;32m--> 203\u001b[0m     \u001b[39mself\u001b[39;49m\u001b[39m.\u001b[39;49mmanager\u001b[39m.\u001b[39;49mhandle_json(content)\n",
      "File \u001b[1;32mc:\\Python\\Winpython64-3.8.2.0cod\\python-3.8.2.amd64\\lib\\site-packages\\matplotlib\\backends\\backend_webagg_core.py:440\u001b[0m, in \u001b[0;36mFigureManagerWebAgg.handle_json\u001b[1;34m(self, content)\u001b[0m\n\u001b[0;32m    439\u001b[0m \u001b[39mdef\u001b[39;00m \u001b[39mhandle_json\u001b[39m(\u001b[39mself\u001b[39m, content):\n\u001b[1;32m--> 440\u001b[0m     \u001b[39mself\u001b[39;49m\u001b[39m.\u001b[39;49mcanvas\u001b[39m.\u001b[39;49mhandle_event(content)\n",
      "File \u001b[1;32mc:\\Python\\Winpython64-3.8.2.0cod\\python-3.8.2.amd64\\lib\\site-packages\\matplotlib\\backends\\backend_webagg_core.py:240\u001b[0m, in \u001b[0;36mFigureCanvasWebAggCore.handle_event\u001b[1;34m(self, event)\u001b[0m\n\u001b[0;32m    237\u001b[0m e_type \u001b[39m=\u001b[39m event[\u001b[39m'\u001b[39m\u001b[39mtype\u001b[39m\u001b[39m'\u001b[39m]\n\u001b[0;32m    238\u001b[0m handler \u001b[39m=\u001b[39m \u001b[39mgetattr\u001b[39m(\u001b[39mself\u001b[39m, \u001b[39m'\u001b[39m\u001b[39mhandle_\u001b[39m\u001b[39m{0}\u001b[39;00m\u001b[39m'\u001b[39m\u001b[39m.\u001b[39mformat(e_type),\n\u001b[0;32m    239\u001b[0m                   \u001b[39mself\u001b[39m\u001b[39m.\u001b[39mhandle_unknown_event)\n\u001b[1;32m--> 240\u001b[0m \u001b[39mreturn\u001b[39;00m handler(event)\n",
      "File \u001b[1;32mc:\\Python\\Winpython64-3.8.2.0cod\\python-3.8.2.amd64\\lib\\site-packages\\matplotlib\\backends\\backend_webagg_core.py:256\u001b[0m, in \u001b[0;36mFigureCanvasWebAggCore.handle_draw\u001b[1;34m(self, event)\u001b[0m\n\u001b[0;32m    255\u001b[0m \u001b[39mdef\u001b[39;00m \u001b[39mhandle_draw\u001b[39m(\u001b[39mself\u001b[39m, event):\n\u001b[1;32m--> 256\u001b[0m     \u001b[39mself\u001b[39;49m\u001b[39m.\u001b[39;49mdraw()\n",
      "File \u001b[1;32mc:\\Python\\Winpython64-3.8.2.0cod\\python-3.8.2.amd64\\lib\\site-packages\\matplotlib\\backends\\backend_webagg_core.py:151\u001b[0m, in \u001b[0;36mFigureCanvasWebAggCore.draw\u001b[1;34m(self)\u001b[0m\n\u001b[0;32m    149\u001b[0m \u001b[39mself\u001b[39m\u001b[39m.\u001b[39m_png_is_old \u001b[39m=\u001b[39m \u001b[39mTrue\u001b[39;00m\n\u001b[0;32m    150\u001b[0m \u001b[39mtry\u001b[39;00m:\n\u001b[1;32m--> 151\u001b[0m     \u001b[39msuper\u001b[39;49m()\u001b[39m.\u001b[39;49mdraw()\n\u001b[0;32m    152\u001b[0m \u001b[39mfinally\u001b[39;00m:\n\u001b[0;32m    153\u001b[0m     \u001b[39mself\u001b[39m\u001b[39m.\u001b[39mmanager\u001b[39m.\u001b[39mrefresh_all()\n",
      "File \u001b[1;32mc:\\Python\\Winpython64-3.8.2.0cod\\python-3.8.2.amd64\\lib\\site-packages\\matplotlib\\backends\\backend_agg.py:390\u001b[0m, in \u001b[0;36mFigureCanvasAgg.draw\u001b[1;34m(self)\u001b[0m\n\u001b[0;32m    388\u001b[0m \u001b[39mself\u001b[39m\u001b[39m.\u001b[39mrenderer \u001b[39m=\u001b[39m \u001b[39mself\u001b[39m\u001b[39m.\u001b[39mget_renderer(cleared\u001b[39m=\u001b[39m\u001b[39mTrue\u001b[39;00m)\n\u001b[0;32m    389\u001b[0m \u001b[39m# Acquire a lock on the shared font cache.\u001b[39;00m\n\u001b[1;32m--> 390\u001b[0m \u001b[39mwith\u001b[39;00m RendererAgg\u001b[39m.\u001b[39mlock, \\\n\u001b[0;32m    391\u001b[0m      (\u001b[39mself\u001b[39m\u001b[39m.\u001b[39mtoolbar\u001b[39m.\u001b[39m_wait_cursor_for_draw_cm() \u001b[39mif\u001b[39;00m \u001b[39mself\u001b[39m\u001b[39m.\u001b[39mtoolbar\n\u001b[0;32m    392\u001b[0m       \u001b[39melse\u001b[39;00m nullcontext()):\n\u001b[0;32m    393\u001b[0m     \u001b[39mself\u001b[39m\u001b[39m.\u001b[39mfigure\u001b[39m.\u001b[39mdraw(\u001b[39mself\u001b[39m\u001b[39m.\u001b[39mrenderer)\n\u001b[0;32m    394\u001b[0m     \u001b[39m# A GUI class may be need to update a window using this draw, so\u001b[39;00m\n\u001b[0;32m    395\u001b[0m     \u001b[39m# don't forget to call the superclass.\u001b[39;00m\n",
      "File \u001b[1;32mc:\\Python\\Winpython64-3.8.2.0cod\\python-3.8.2.amd64\\lib\\contextlib.py:113\u001b[0m, in \u001b[0;36m_GeneratorContextManager.__enter__\u001b[1;34m(self)\u001b[0m\n\u001b[0;32m    111\u001b[0m \u001b[39mdel\u001b[39;00m \u001b[39mself\u001b[39m\u001b[39m.\u001b[39margs, \u001b[39mself\u001b[39m\u001b[39m.\u001b[39mkwds, \u001b[39mself\u001b[39m\u001b[39m.\u001b[39mfunc\n\u001b[0;32m    112\u001b[0m \u001b[39mtry\u001b[39;00m:\n\u001b[1;32m--> 113\u001b[0m     \u001b[39mreturn\u001b[39;00m \u001b[39mnext\u001b[39;49m(\u001b[39mself\u001b[39;49m\u001b[39m.\u001b[39;49mgen)\n\u001b[0;32m    114\u001b[0m \u001b[39mexcept\u001b[39;00m \u001b[39mStopIteration\u001b[39;00m:\n\u001b[0;32m    115\u001b[0m     \u001b[39mraise\u001b[39;00m \u001b[39mRuntimeError\u001b[39;00m(\u001b[39m\"\u001b[39m\u001b[39mgenerator didn\u001b[39m\u001b[39m'\u001b[39m\u001b[39mt yield\u001b[39m\u001b[39m\"\u001b[39m) \u001b[39mfrom\u001b[39;00m \u001b[39mNone\u001b[39m\n",
      "File \u001b[1;32mc:\\Python\\Winpython64-3.8.2.0cod\\python-3.8.2.amd64\\lib\\site-packages\\matplotlib\\backend_bases.py:2785\u001b[0m, in \u001b[0;36mNavigationToolbar2._wait_cursor_for_draw_cm\u001b[1;34m(self)\u001b[0m\n\u001b[0;32m   2783\u001b[0m \u001b[39mif\u001b[39;00m \u001b[39mself\u001b[39m\u001b[39m.\u001b[39m_draw_time \u001b[39m-\u001b[39m last_draw_time \u001b[39m>\u001b[39m \u001b[39m1\u001b[39m:\n\u001b[0;32m   2784\u001b[0m     \u001b[39mtry\u001b[39;00m:\n\u001b[1;32m-> 2785\u001b[0m         \u001b[39mself\u001b[39;49m\u001b[39m.\u001b[39;49mset_cursor(cursors\u001b[39m.\u001b[39;49mWAIT)\n\u001b[0;32m   2786\u001b[0m         \u001b[39myield\u001b[39;00m\n\u001b[0;32m   2787\u001b[0m     \u001b[39mfinally\u001b[39;00m:\n",
      "File \u001b[1;32mc:\\Python\\Winpython64-3.8.2.0cod\\python-3.8.2.amd64\\lib\\site-packages\\matplotlib\\backends\\backend_webagg_core.py:382\u001b[0m, in \u001b[0;36mNavigationToolbar2WebAgg.set_cursor\u001b[1;34m(self, cursor)\u001b[0m\n\u001b[0;32m    380\u001b[0m \u001b[39mdef\u001b[39;00m \u001b[39mset_cursor\u001b[39m(\u001b[39mself\u001b[39m, cursor):\n\u001b[0;32m    381\u001b[0m     \u001b[39mif\u001b[39;00m cursor \u001b[39m!=\u001b[39m \u001b[39mself\u001b[39m\u001b[39m.\u001b[39mcursor:\n\u001b[1;32m--> 382\u001b[0m         \u001b[39mself\u001b[39;49m\u001b[39m.\u001b[39;49mcanvas\u001b[39m.\u001b[39;49msend_event(\u001b[39m\"\u001b[39;49m\u001b[39mcursor\u001b[39;49m\u001b[39m\"\u001b[39;49m, cursor\u001b[39m=\u001b[39;49mcursor)\n\u001b[0;32m    383\u001b[0m     \u001b[39mself\u001b[39m\u001b[39m.\u001b[39mcursor \u001b[39m=\u001b[39m cursor\n",
      "File \u001b[1;32mc:\\Python\\Winpython64-3.8.2.0cod\\python-3.8.2.amd64\\lib\\site-packages\\matplotlib\\backends\\backend_webagg_core.py:347\u001b[0m, in \u001b[0;36mFigureCanvasWebAggCore.send_event\u001b[1;34m(self, event_type, **kwargs)\u001b[0m\n\u001b[0;32m    345\u001b[0m \u001b[39mdef\u001b[39;00m \u001b[39msend_event\u001b[39m(\u001b[39mself\u001b[39m, event_type, \u001b[39m*\u001b[39m\u001b[39m*\u001b[39mkwargs):\n\u001b[0;32m    346\u001b[0m     \u001b[39mif\u001b[39;00m \u001b[39mself\u001b[39m\u001b[39m.\u001b[39mmanager:\n\u001b[1;32m--> 347\u001b[0m         \u001b[39mself\u001b[39;49m\u001b[39m.\u001b[39;49mmanager\u001b[39m.\u001b[39;49m_send_event(event_type, \u001b[39m*\u001b[39;49m\u001b[39m*\u001b[39;49mkwargs)\n",
      "File \u001b[1;32mc:\\Python\\Winpython64-3.8.2.0cod\\python-3.8.2.amd64\\lib\\site-packages\\matplotlib\\backends\\backend_webagg_core.py:490\u001b[0m, in \u001b[0;36mFigureManagerWebAgg._send_event\u001b[1;34m(self, event_type, **kwargs)\u001b[0m\n\u001b[0;32m    488\u001b[0m payload \u001b[39m=\u001b[39m {\u001b[39m'\u001b[39m\u001b[39mtype\u001b[39m\u001b[39m'\u001b[39m: event_type, \u001b[39m*\u001b[39m\u001b[39m*\u001b[39mkwargs}\n\u001b[0;32m    489\u001b[0m \u001b[39mfor\u001b[39;00m s \u001b[39min\u001b[39;00m \u001b[39mself\u001b[39m\u001b[39m.\u001b[39mweb_sockets:\n\u001b[1;32m--> 490\u001b[0m     s\u001b[39m.\u001b[39;49msend_json(payload)\n",
      "File \u001b[1;32mc:\\Python\\Winpython64-3.8.2.0cod\\python-3.8.2.amd64\\lib\\site-packages\\ipympl\\backend_nbagg.py:209\u001b[0m, in \u001b[0;36mCanvas.send_json\u001b[1;34m(self, content)\u001b[0m\n\u001b[0;32m    207\u001b[0m \u001b[39mif\u001b[39;00m content[\u001b[39m'\u001b[39m\u001b[39mtype\u001b[39m\u001b[39m'\u001b[39m] \u001b[39m==\u001b[39m \u001b[39m'\u001b[39m\u001b[39mcursor\u001b[39m\u001b[39m'\u001b[39m:\n\u001b[0;32m    208\u001b[0m     cursors \u001b[39m=\u001b[39m [\u001b[39m'\u001b[39m\u001b[39mpointer\u001b[39m\u001b[39m'\u001b[39m, \u001b[39m'\u001b[39m\u001b[39mdefault\u001b[39m\u001b[39m'\u001b[39m, \u001b[39m'\u001b[39m\u001b[39mcrosshair\u001b[39m\u001b[39m'\u001b[39m, \u001b[39m'\u001b[39m\u001b[39mmove\u001b[39m\u001b[39m'\u001b[39m]\n\u001b[1;32m--> 209\u001b[0m     \u001b[39mself\u001b[39m\u001b[39m.\u001b[39m_cursor \u001b[39m=\u001b[39m cursors[content[\u001b[39m'\u001b[39;49m\u001b[39mcursor\u001b[39;49m\u001b[39m'\u001b[39;49m]]\n\u001b[0;32m    211\u001b[0m \u001b[39melif\u001b[39;00m content[\u001b[39m'\u001b[39m\u001b[39mtype\u001b[39m\u001b[39m'\u001b[39m] \u001b[39m==\u001b[39m \u001b[39m'\u001b[39m\u001b[39mmessage\u001b[39m\u001b[39m'\u001b[39m:\n\u001b[0;32m    212\u001b[0m     \u001b[39mself\u001b[39m\u001b[39m.\u001b[39m_message \u001b[39m=\u001b[39m content[\u001b[39m'\u001b[39m\u001b[39mmessage\u001b[39m\u001b[39m'\u001b[39m]\n",
      "\u001b[1;31mIndexError\u001b[0m: list index out of range"
     ]
    }
   ],
   "source": [
    "# plot the function of the first layer\n",
    "plt_layer_relu(X_train, y_train.reshape(-1,), W1, b1, classes)"
   ]
  },
  {
   "cell_type": "code",
   "execution_count": 10,
   "metadata": {
    "tags": []
   },
   "outputs": [
    {
     "data": {
      "application/vnd.jupyter.widget-view+json": {
       "model_id": "6f2b35086753492dbb36f01cebb18f3d",
       "version_major": 2,
       "version_minor": 0
      },
      "text/plain": [
       "Canvas(toolbar=Toolbar(toolitems=[('Home', 'Reset original view', 'home', 'home'), ('Back', 'Back to previous …"
      ]
     },
     "metadata": {},
     "output_type": "display_data"
    }
   ],
   "source": [
    "# gather the trained parameters from the output layer\n",
    "l2 = model.get_layer(\"L2\")\n",
    "W2, b2 = l2.get_weights()\n",
    "# create the 'new features', the training examples after L1 transformation\n",
    "Xl2 = np.maximum(0, np.dot(X_train,W1) + b1)\n",
    "\n",
    "plt_output_layer_linear(Xl2, y_train.reshape(-1,), W2, b2, classes,\n",
    "                        x0_rng = (-0.25,np.amax(Xl2[:,0])), x1_rng = (-0.25,np.amax(Xl2[:,1])))"
   ]
  },
  {
   "cell_type": "markdown",
   "metadata": {},
   "source": [
    "## Explanation\n",
    "#### Layer 1 <img align=\"Right\" src=\"./images/C2_W2_mclass_layer1.png\"  style=\" width:600px; padding: 10px 20px ; \">\n",
    "These plots show the function of Units 0 and 1 in the first layer of the network. The inputs are ($x_0,x_1$) on the axis. The output of the unit is represented by the color of the background. This is indicated by the color bar on the right of each graph. Notice that since these units are using a ReLu, the outputs do not necessarily fall between 0 and 1 and in this case are greater than 20 at their peaks. \n",
    "The contour lines in this graph show the transition point between the output, $a^{[1]}_j$ being zero and non-zero. Recall the graph for a ReLu :<img align=\"right\" src=\"./images/C2_W2_mclass_relu.png\"  style=\" width:200px; padding: 10px 20px ; \"> The contour line in the graph is the inflection point in the ReLu.\n",
    "\n",
    "Unit 0 has separated classes 0 and 1 from classes 2 and 3. Points to the left of the line (classes 0 and 1) will output zero, while points to the right will output a value greater than zero.  \n",
    "Unit 1 has separated classes 0 and 2 from classes 1 and 3. Points above the line (classes 0 and 2 ) will output a zero, while points below will output a value greater than zero. Let's see how this works out in the next layer!"
   ]
  },
  {
   "cell_type": "markdown",
   "metadata": {},
   "source": [
    "#### Layer 2, the output layer  <img align=\"Right\" src=\"./images/C2_W2_mclass_layer2.png\"  style=\" width:600px; padding: 10px 20px ; \">\n",
    "\n",
    "The dots in these graphs are the training examples translated by the first layer. One way to think of this is the first layer has created a new set of features for evaluation by the 2nd layer. The axes in these plots are the outputs of the previous layer $a^{[1]}_0$ and $a^{[1]}_1$. As predicted above, classes 0 and 1 (blue and green) have  $a^{[1]}_0 = 0$ while classes 0 and 2 (blue and orange) have $a^{[1]}_1 = 0$.  \n",
    "Once again, the intensity of the background color indicates the highest values.  \n",
    "Unit 0 will produce its maximum value for values near (0,0), where class 0 (blue) has been mapped.    \n",
    "Unit 1 produces its highest values in the upper left corner selecting class 1 (green).  \n",
    "Unit 2 targets the lower right corner where class 2 (orange) resides.  \n",
    "Unit 3 produces its highest values in the upper right selecting our final class (purple).  \n",
    "\n",
    "One other aspect that is not obvious from the graphs is that the values have been coordinated between the units. It is not sufficient for a unit to produce a maximum value for the class it is selecting for, it must also be the highest value of all the units for points in that class. This is done by the implied softmax function that is part of the loss function (`SparseCategoricalCrossEntropy`). Unlike other activation functions, the softmax works across all the outputs.\n",
    "\n",
    "You can successfully use neural networks without knowing the details of what each unit is up to. Hopefully, this example has provided some intuition about what is happening under the hood."
   ]
  },
  {
   "cell_type": "markdown",
   "metadata": {},
   "source": [
    "## Congratulations!\n",
    "You have learned to build and operate a neural network for multiclass classification.\n"
   ]
  },
  {
   "cell_type": "code",
   "execution_count": null,
   "metadata": {},
   "outputs": [],
   "source": []
  }
 ],
 "metadata": {
  "kernelspec": {
   "display_name": "Python 3",
   "language": "python",
   "name": "python3"
  },
  "language_info": {
   "codemirror_mode": {
    "name": "ipython",
    "version": 3
   },
   "file_extension": ".py",
   "mimetype": "text/x-python",
   "name": "python",
   "nbconvert_exporter": "python",
   "pygments_lexer": "ipython3",
   "version": "3.8.2"
  }
 },
 "nbformat": 4,
 "nbformat_minor": 4
}
